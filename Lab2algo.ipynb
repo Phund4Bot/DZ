{
  "cells": [
    {
      "cell_type": "markdown",
      "metadata": {
        "id": "view-in-github",
        "colab_type": "text"
      },
      "source": [
        "<a href=\"https://colab.research.google.com/github/Phund4Bot/DZ/blob/main/Lab2algo.ipynb\" target=\"_parent\"><img src=\"https://colab.research.google.com/assets/colab-badge.svg\" alt=\"Open In Colab\"/></a>"
      ]
    },
    {
      "cell_type": "markdown",
      "id": "fifteen-sailing",
      "metadata": {
        "id": "fifteen-sailing"
      },
      "source": [
        "# Лабораторная работа №2\n",
        "## Выполнил студент группы БВТ2203 Попов Александр Иванович"
      ]
    },
    {
      "cell_type": "code",
      "source": [
        "class Node:\n",
        "    def __init__(self, value):\n",
        "        self.value = value\n",
        "        self.next = None\n",
        "        self.prev = None\n",
        "\n",
        "class Stack:\n",
        "    def __init__(self):\n",
        "        self.top = None\n",
        "\n",
        "    def is_empty(self):\n",
        "        return self.top is None\n",
        "\n",
        "    def push(self, value):\n",
        "        new_node = Node(value)\n",
        "        if self.is_empty():\n",
        "            self.top = new_node\n",
        "        else:\n",
        "            new_node.prev = self.top\n",
        "            self.top.next = new_node\n",
        "            self.top = new_node\n",
        "\n",
        "    def pop(self):\n",
        "        if self.is_empty():\n",
        "            return None\n",
        "        value = self.top.value\n",
        "        if self.top.prev is not None:\n",
        "            self.top = self.top.prev\n",
        "            self.top.next = None\n",
        "        else:\n",
        "            self.top = None\n",
        "        return value\n",
        "\n",
        "\n",
        "class Deque:\n",
        "    def __init__(self):\n",
        "        self.front = None\n",
        "        self.rear = None\n",
        "\n",
        "    def is_empty(self):\n",
        "        return self.front is None\n",
        "\n",
        "    def push_front(self, value):\n",
        "        new_node = Node(value)\n",
        "        if self.is_empty():\n",
        "            self.front = new_node\n",
        "            self.rear = new_node\n",
        "        else:\n",
        "            new_node.next = self.front\n",
        "            self.front.prev = new_node\n",
        "            self.front = new_node\n",
        "\n",
        "    def push_back(self, value):\n",
        "        new_node = Node(value)\n",
        "        if self.is_empty():\n",
        "            self.front = new_node\n",
        "            self.rear = new_node\n",
        "        else:\n",
        "            new_node.prev = self.rear\n",
        "            self.rear.next = new_node\n",
        "            self.rear = new_node\n",
        "\n",
        "    def pop_front(self):\n",
        "        if self.is_empty():\n",
        "            return None\n",
        "        value = self.front.value\n",
        "        if self.front.next is not None:\n",
        "            self.front = self.front.next\n",
        "            self.front.prev = None\n",
        "        else:\n",
        "            self.front = None\n",
        "            self.rear = None\n",
        "        return value\n",
        "\n",
        "    def pop_back(self):\n",
        "        if self.is_empty():\n",
        "            return None\n",
        "        value = self.rear.value\n",
        "        if self.rear.prev is not None:\n",
        "            self.rear = self.rear.prev\n",
        "            self.rear.next = None\n",
        "        else:\n",
        "            self.front = None\n",
        "            self.rear = None\n",
        "        return value\n",
        "\n",
        "    def peak_back(self):\n",
        "        el = self.pop_back()\n",
        "        self.push_back(el)\n",
        "        return el\n"
      ],
      "metadata": {
        "id": "Sg4vT1JfQDxK"
      },
      "id": "Sg4vT1JfQDxK",
      "execution_count": 103,
      "outputs": []
    },
    {
      "cell_type": "markdown",
      "id": "arctic-stocks",
      "metadata": {
        "id": "arctic-stocks"
      },
      "source": [
        "Реализовать следующие структуры данных:\n",
        "  \n",
        "● <b> Стек (stack): </b>  \n",
        "Операции для стека:\n",
        "<i> инициализация, проверка на пустоту, добавление нового элемента в начало, извлечение элемента из начала;  </i>  \n",
        "  \n",
        "● <b> Дек (двусторонняя очередь, deque):  </b>  \n",
        "Операции для дека:\n",
        "<i> инициализация, проверка на пустоту, добавление нового элемента в начало, добавление нового элемента в конец, извлечение элемента из начала, извлечение элемента из конца. </i>  \n",
        "  \n",
        "<i> Разработать программу обработки данных, содержащихся в заранее подготовленном txt-файле, в соответствии с заданиями, применив указанную в задании структуру данных. Результат работы программы вывести на экран и сохранить в отдельном txt-файле. </i>"
      ]
    },
    {
      "cell_type": "markdown",
      "id": "5d7edb08",
      "metadata": {
        "scrolled": true,
        "id": "5d7edb08"
      },
      "source": [
        "### Задание №1\n",
        "Отсортировать строки файла, содержащие названия книг, в алфавитном порядке с использованием двух деков."
      ]
    },
    {
      "cell_type": "code",
      "execution_count": 107,
      "id": "17702ade",
      "metadata": {
        "id": "17702ade",
        "outputId": "bf3bdef6-4b18-41d0-a1c5-4d012157dc55",
        "colab": {
          "base_uri": "https://localhost:8080/"
        }
      },
      "outputs": [
        {
          "output_type": "stream",
          "name": "stdout",
          "text": [
            "['\"1984\"', '\"Анна Каренина\"', '\"Атлант расправил плечи\"', '\"Вино из одуванчиков\"', '\"Властелин колец\"', '\"Война и мир\"', '\"Гарри Поттер и Философский камень\"', '\"Гарри Поттер и узник Азкабана\"', '\"Коллекционер\"', '\"Лолита\"', '\"Маленький принц\"', '\"Мастер и Маргарита\"', '\"Метро 2033\"', '\"Над пропастью во ржи\"', '\"Пикник на обочине\"', '\"Тень ветра\"', '\"Толстый и тонкий\"', '\"Три товарища\"', '\"Убить пересмешника\"']\n"
          ]
        }
      ],
      "source": [
        "def get_all_lines(name) -> list[str]:\n",
        "    res = None\n",
        "\n",
        "    with open(name) as file:\n",
        "        res = file.read().splitlines()\n",
        "\n",
        "    return res\n",
        "\n",
        "def write_all_lines(ls, name):\n",
        "    with open(name, 'w') as file:\n",
        "        file.writelines(map(lambda a: a + '\\n', ls))\n",
        "\n",
        "def two_deque_sort(ls):\n",
        "    deque1 = Deque()\n",
        "    deque2 = Deque()\n",
        "\n",
        "    for i in ls:\n",
        "      deque1.push_back(i)\n",
        "\n",
        "    while not deque1.is_empty():\n",
        "      current_line = deque1.pop_front()\n",
        "      while not deque2.is_empty() and deque2.peak_back() > current_line:\n",
        "        deque1.push_back(deque2.pop_back())\n",
        "      deque2.push_back(current_line)\n",
        "\n",
        "\n",
        "    for i in range(len(ls)):\n",
        "        el = deque2.pop_front()\n",
        "        if el is not None:\n",
        "            ls[i] = el\n",
        "\n",
        "\n",
        "ls = get_all_lines(r'books.txt')\n",
        "two_deque_sort(ls)\n",
        "\n",
        "write_all_lines(ls, r'books-res.txt')\n",
        "\n",
        "print(ls)"
      ]
    },
    {
      "cell_type": "markdown",
      "id": "49fbd2a0",
      "metadata": {
        "id": "49fbd2a0"
      },
      "source": [
        "### Задание №2\n",
        "Дек содержит последовательность символов для шифровки сообщений. Дан текстовый файл, содержащий зашифрованное сообщение. Пользуясь деком, расшифровать текст.\n",
        "Известно, что при шифровке каждый символ сообщения заменялся следующим за ним в деке по часовой стрелке через один."
      ]
    },
    {
      "cell_type": "code",
      "execution_count": 74,
      "id": "81cab7a8",
      "metadata": {
        "id": "81cab7a8",
        "colab": {
          "base_uri": "https://localhost:8080/"
        },
        "outputId": "bca3f49e-113f-4921-ffea-a9a90b594c72"
      },
      "outputs": [
        {
          "output_type": "stream",
          "name": "stdout",
          "text": [
            "fcjn,kc\n"
          ]
        }
      ],
      "source": [
        "import string\n",
        "\n",
        "dec_deque = Deque()\n",
        "\n",
        "for i in [*string.ascii_letters, '\"', ',', '.', ' ']:\n",
        "    dec_deque.push_front(i)\n",
        "\n",
        "def decrypt(msg):\n",
        "    res = ''\n",
        "    for i in msg:\n",
        "        cur = ''\n",
        "\n",
        "        while cur != i:\n",
        "            cur = dec_deque.pop_front()\n",
        "            dec_deque.push_back(cur)\n",
        "\n",
        "        for _ in range(2):\n",
        "            cur = dec_deque.pop_front()\n",
        "            dec_deque.push_back(cur)\n",
        "\n",
        "        res += cur\n",
        "\n",
        "    return res\n",
        "\n",
        "dec = decrypt(get_all_lines(r'decdeq.txt')[0]) #help me\n",
        "\n",
        "write_all_lines([dec], r'decdeq-res.txt')\n",
        "\n",
        "print(dec)"
      ]
    },
    {
      "cell_type": "markdown",
      "id": "c0894f47",
      "metadata": {
        "id": "c0894f47"
      },
      "source": [
        "### Задание №3\n",
        "Даны три стержня и n дисков различного размера. Диски можно надевать на стержни, образуя из них башни. Перенести n дисков со стержня А на стержень С, сохранив их первоначальный порядок. При переносе дисков необходимо соблюдать следующие правила:\n",
        "- на каждом шаге со стержня на стержень переносить только один диск;\n",
        "- диск нельзя помещать на диск меньшего размера;\n",
        "- для промежуточного хранения можно использовать стержень В.\n",
        "Реализовать алгоритм, используя три стека вместо стержней А, В, С. Информация о дисках хранится в исходном файле."
      ]
    },
    {
      "cell_type": "code",
      "execution_count": 77,
      "id": "9e91a9d4",
      "metadata": {
        "id": "9e91a9d4",
        "colab": {
          "base_uri": "https://localhost:8080/"
        },
        "outputId": "db008822-e47c-4757-e084-92d7862a724e"
      },
      "outputs": [
        {
          "output_type": "stream",
          "name": "stdout",
          "text": [
            "0 1 2 3 4 5 "
          ]
        }
      ],
      "source": [
        "sA, sB, sC = Stack(), Stack(), Stack()\n",
        "N = 6\n",
        "\n",
        "for i in range(N-1, -1, -1):\n",
        "    sA.push(i)\n",
        "\n",
        "def func(n, sA: Stack, sC : Stack, sB: Stack):\n",
        "    if n <= 0:\n",
        "        return\n",
        "    #рекурсивно перемещаем с A на B, используем C как промежуточный\n",
        "    func(n-1, sA, sB, sC)\n",
        "    i = sA.pop()\n",
        "    #перемещаем верхний с A на C\n",
        "    sC.push(i)\n",
        "    #рекурсивно перемещаем с B на C, A промежуточный\n",
        "    func(n-1, sB, sC, sA)\n",
        "\n",
        "func(N, sA, sC, sB)\n",
        "\n",
        "while not sC.is_empty():\n",
        "  print(sC.pop(), end=' ')\n",
        "\n"
      ]
    },
    {
      "cell_type": "markdown",
      "id": "e5b0be17",
      "metadata": {
        "id": "e5b0be17"
      },
      "source": [
        "### Задание №4\n",
        "Дан текстовый файл с программой на алгоритмическом языке. За один просмотр файла проверить баланс круглых скобок в тексте, используя стек."
      ]
    },
    {
      "cell_type": "code",
      "execution_count": 53,
      "id": "5b1df60a",
      "metadata": {
        "id": "5b1df60a",
        "colab": {
          "base_uri": "https://localhost:8080/"
        },
        "outputId": "99ba3222-df18-4234-e9cd-08bfb77e89a3"
      },
      "outputs": [
        {
          "output_type": "stream",
          "name": "stdout",
          "text": [
            "True\n"
          ]
        }
      ],
      "source": [
        "def check_round_brackets(file_path):\n",
        "    stack = Stack()\n",
        "\n",
        "    with open(file_path, 'r') as file:\n",
        "        for line in file:\n",
        "            for char in line.strip():\n",
        "                if char == '(':\n",
        "                    stack.push(char)\n",
        "                elif char == ')':\n",
        "                    if stack.is_empty():\n",
        "                        return False\n",
        "                    else:\n",
        "                        stack.pop()\n",
        "\n",
        "    if not stack.is_empty():\n",
        "        return False\n",
        "    else:\n",
        "        return True\n",
        "\n",
        "\n",
        "def main():\n",
        "    balanced = check_round_brackets('round_brackets.txt')\n",
        "\n",
        "    if balanced:\n",
        "        print(\"True\")\n",
        "    else:\n",
        "        print(f\"False\")\n",
        "\n",
        "\n",
        "if __name__ == \"__main__\":\n",
        "    main()\n"
      ]
    },
    {
      "cell_type": "markdown",
      "id": "c44cdd6b",
      "metadata": {
        "id": "c44cdd6b"
      },
      "source": [
        "### Задание №5\n",
        "Дан текстовый файл с программой на алгоритмическом языке. За один просмотр файла проверить баланс квадратных скобок в тексте, используя дек."
      ]
    },
    {
      "cell_type": "code",
      "execution_count": 52,
      "id": "36b8f400",
      "metadata": {
        "id": "36b8f400",
        "colab": {
          "base_uri": "https://localhost:8080/"
        },
        "outputId": "bbaf31f1-3104-44db-9acc-5e7a725e4625"
      },
      "outputs": [
        {
          "output_type": "stream",
          "name": "stdout",
          "text": [
            "True\n"
          ]
        }
      ],
      "source": [
        "def check_square_brackets(file_path):\n",
        "    stack = Stack()\n",
        "\n",
        "    with open(file_path, 'r') as file:\n",
        "        for line in file:\n",
        "            for char in line.strip():\n",
        "                if char == '[':\n",
        "                    stack.push(char)\n",
        "                elif char == ']':\n",
        "                    if stack.is_empty():\n",
        "                        return False\n",
        "                    else:\n",
        "                        stack.pop()\n",
        "\n",
        "    if not stack.is_empty():\n",
        "        return False\n",
        "    else:\n",
        "        return True\n",
        "\n",
        "\n",
        "def main():\n",
        "    balanced = check_square_brackets('square_brackets.txt')\n",
        "\n",
        "    if balanced:\n",
        "        print(\"True\")\n",
        "    else:\n",
        "        print(f\"False\")\n",
        "\n",
        "\n",
        "if __name__ == \"__main__\":\n",
        "    main()\n"
      ]
    },
    {
      "cell_type": "markdown",
      "id": "59d13dc7",
      "metadata": {
        "id": "59d13dc7"
      },
      "source": [
        "### Задание №6\n",
        "Дан файл из символов. Используя стек, за один просмотр файла напечатать сначала все цифры, затем все буквы, и, наконец, все остальные символы, сохраняя исходный порядок в каждой группе символов."
      ]
    },
    {
      "cell_type": "code",
      "execution_count": 44,
      "id": "297e36c2",
      "metadata": {
        "id": "297e36c2",
        "colab": {
          "base_uri": "https://localhost:8080/"
        },
        "outputId": "8134a608-ec23-430e-bb96-e675544a1a35"
      },
      "outputs": [
        {
          "output_type": "stream",
          "name": "stdout",
          "text": [
            "7364phunda( @! # "
          ]
        }
      ],
      "source": [
        "    letter_stack = Stack()\n",
        "    other_stack = Stack()\n",
        "\n",
        "    with open(\"line_sort.txt\", 'r') as file:\n",
        "        for line in file:\n",
        "            for char in line.strip():\n",
        "                if char.isdigit():\n",
        "                    print(char, end='')\n",
        "                elif char.isalpha():\n",
        "                    letter_stack.push(char)\n",
        "                else:\n",
        "                    other_stack.push(char)\n",
        "\n",
        "\n",
        "\n",
        "    reverse = Stack()\n",
        "    while not letter_stack.is_empty():\n",
        "        reverse.push(letter_stack.pop())\n",
        "\n",
        "    while not reverse.is_empty():\n",
        "        print(reverse.pop(), end='')\n",
        "\n",
        "    while not other_stack.is_empty():\n",
        "        reverse.push(other_stack.pop())\n",
        "\n",
        "    while not reverse.is_empty():\n",
        "        print(reverse.pop(), end='')"
      ]
    },
    {
      "cell_type": "markdown",
      "id": "973f68bd",
      "metadata": {
        "id": "973f68bd"
      },
      "source": [
        "### Задание №7\n",
        "Дан файл из целых чисел. Используя дек, за один просмотр файла напечатать сначала все отрицательные числа, затем все положительные числа, сохраняя исходный порядок в каждой группе."
      ]
    },
    {
      "cell_type": "code",
      "execution_count": 45,
      "id": "c56fad66",
      "metadata": {
        "id": "c56fad66",
        "colab": {
          "base_uri": "https://localhost:8080/"
        },
        "outputId": "18d045a2-d4d9-46e5-f0c7-2c40ba716c5d"
      },
      "outputs": [
        {
          "output_type": "stream",
          "name": "stdout",
          "text": [
            "-2 -2 -4 45 63 65 3 "
          ]
        }
      ],
      "source": [
        "def digits_line_sort(filename):\n",
        "    with open(filename, 'r') as file:\n",
        "        positives = Deque()\n",
        "\n",
        "        for line in file:\n",
        "            numbers = map(int, line.strip().split())\n",
        "            for number in numbers:\n",
        "                if number < 0:\n",
        "                    print(number, end=' ')\n",
        "                else:\n",
        "                    positives.push_front(number)\n",
        "\n",
        "        while not positives.is_empty():\n",
        "            print(positives.pop_back(), end=' ')\n",
        "\n",
        "digits_line_sort('digits_line_sort.txt')\n"
      ]
    },
    {
      "cell_type": "markdown",
      "id": "b9228191",
      "metadata": {
        "id": "b9228191"
      },
      "source": [
        "### Задание №8\n",
        "Дан текстовый файл. Используя стек, сформировать новый текстовый файл, содержащий строки исходного файла, записанные в обратном порядке: первая строка становится последней, вторая – предпоследней и т.д."
      ]
    },
    {
      "cell_type": "code",
      "execution_count": 47,
      "id": "981fbdfe",
      "metadata": {
        "id": "981fbdfe"
      },
      "outputs": [],
      "source": [
        "def reverse_file(input_file, output_file):\n",
        "    stack = Stack()\n",
        "\n",
        "    with open(input_file, 'r') as file:\n",
        "        for line in file:\n",
        "            stack.push(line.strip())\n",
        "\n",
        "    with open(output_file, 'w') as file:\n",
        "        while not stack.is_empty():\n",
        "            file.write(stack.pop() + '\\n')\n",
        "\n",
        "\n",
        "def main():\n",
        "    input_file = 'reverse.txt'\n",
        "    output_file = 'reverse-res.txt'\n",
        "    reverse_file(input_file, output_file)\n",
        "\n",
        "\n",
        "if __name__ == \"__main__\":\n",
        "    main()\n"
      ]
    },
    {
      "cell_type": "markdown",
      "id": "rental-jerusalem",
      "metadata": {
        "id": "rental-jerusalem"
      },
      "source": [
        "### Вывод\n"
      ]
    },
    {
      "cell_type": "markdown",
      "id": "0c2b8899",
      "metadata": {
        "id": "0c2b8899"
      },
      "source": []
    }
  ],
  "metadata": {
    "kernelspec": {
      "display_name": "Python 3 (ipykernel)",
      "language": "python",
      "name": "python3"
    },
    "language_info": {
      "codemirror_mode": {
        "name": "ipython",
        "version": 3
      },
      "file_extension": ".py",
      "mimetype": "text/x-python",
      "name": "python",
      "nbconvert_exporter": "python",
      "pygments_lexer": "ipython3",
      "version": "3.10.2"
    },
    "colab": {
      "provenance": [],
      "include_colab_link": true
    }
  },
  "nbformat": 4,
  "nbformat_minor": 5
}