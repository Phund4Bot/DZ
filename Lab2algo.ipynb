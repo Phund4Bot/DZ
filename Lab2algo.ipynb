{
  "cells": [
    {
      "cell_type": "markdown",
      "metadata": {
        "id": "view-in-github",
        "colab_type": "text"
      },
      "source": [
        "<a href=\"https://colab.research.google.com/github/Phund4Bot/DZ/blob/main/Lab2algo.ipynb\" target=\"_parent\"><img src=\"https://colab.research.google.com/assets/colab-badge.svg\" alt=\"Open In Colab\"/></a>"
      ]
    },
    {
      "cell_type": "markdown",
      "id": "fifteen-sailing",
      "metadata": {
        "id": "fifteen-sailing"
      },
      "source": [
        "# Лабораторная работа №2\n",
        "## Выполнил студент группы БВТ2203 Попов Александр"
      ]
    },
    {
      "cell_type": "markdown",
      "id": "arctic-stocks",
      "metadata": {
        "id": "arctic-stocks"
      },
      "source": [
        "Реализовать следующие структуры данных:\n",
        "  \n",
        "● <b> Стек (stack): </b>  \n",
        "Операции для стека:\n",
        "<i> инициализация, проверка на пустоту, добавление нового элемента в начало, извлечение элемента из начала;  </i>  \n",
        "  \n",
        "● <b> Дек (двусторонняя очередь, deque):  </b>  \n",
        "Операции для дека:\n",
        "<i> инициализация, проверка на пустоту, добавление нового элемента в начало, добавление нового элемента в конец, извлечение элемента из начала, извлечение элемента из конца. </i>  \n",
        "  \n",
        "<i> Разработать программу обработки данных, содержащихся в заранее подготовленном txt-файле, в соответствии с заданиями, применив указанную в задании структуру данных. Результат работы программы вывести на экран и сохранить в отдельном txt-файле. </i>"
      ]
    },
    {
      "cell_type": "code",
      "execution_count": null,
      "id": "16bda601",
      "metadata": {
        "id": "16bda601"
      },
      "outputs": [],
      "source": [
        "class Stack:\n",
        "    def __init__(self, init_arr=None) -> None:\n",
        "        if init_arr == None:\n",
        "            self.arr = []\n",
        "        else:\n",
        "            self.arr = init_arr\n",
        "\n",
        "    def is_empty(self) -> bool:\n",
        "        return len(self.arr) == 0\n",
        "\n",
        "    def push(self, el):\n",
        "        self.arr.append(el)\n",
        "\n",
        "    def pop(self):\n",
        "        if not self.is_empty():\n",
        "            return self.arr.pop()\n",
        "        return None\n",
        "\n",
        "    def peak(self):\n",
        "        el = self.pop()\n",
        "        self.push(el)\n",
        "        return el\n",
        "\n",
        "\n",
        "class Deque:\n",
        "    def __init__(self, init_arr=None) -> None:\n",
        "        if init_arr == None:\n",
        "            self.arr = []\n",
        "        else:\n",
        "            self.arr = init_arr\n",
        "\n",
        "    def is_empty(self) -> bool:\n",
        "        return len(self.arr) == 0\n",
        "\n",
        "    def push_end(self, el):\n",
        "        self.arr.append(el)\n",
        "\n",
        "    def pop_end(self):\n",
        "        if not self.is_empty():\n",
        "            return self.arr.pop()\n",
        "        return None\n",
        "\n",
        "    def push_start(self, el):\n",
        "        self.arr.insert(0, el)\n",
        "\n",
        "    def pop_start(self):\n",
        "        if not self.is_empty():\n",
        "            return self.arr.pop(0)\n",
        "        return None\n",
        "\n",
        "    def peak_end(self):\n",
        "        el = self.pop_end()\n",
        "        self.push_end(el)\n",
        "        return el"
      ]
    },
    {
      "cell_type": "markdown",
      "id": "5d7edb08",
      "metadata": {
        "id": "5d7edb08",
        "scrolled": true
      },
      "source": [
        "### Задание №1\n",
        "Отсортировать строки файла, содержащие названия книг, в алфавитном порядке с использованием двух деков."
      ]
    },
    {
      "cell_type": "code",
      "execution_count": null,
      "id": "17702ade",
      "metadata": {
        "id": "17702ade",
        "outputId": "d6cce794-e781-4b97-bfe5-32388a1b37a2"
      },
      "outputs": [
        {
          "name": "stdout",
          "output_type": "stream",
          "text": [
            "['1984', 'A Confederacy of Dunces', 'Animal Farm', 'Beloved', 'Don Quixote', 'Dune', 'Frankenstein', 'Invisible Man', 'Jane Eyre', 'Moby Dick', 'One Hundred Years of Solitude', 'Pride and Prejudice', \"Tess of the d'Urbervilles\", 'The Adventures of Huckleberry Finn', 'The Adventures of Sherlock Holmes', 'The Adventures of Tom Sawyer', 'The Alchemist', 'The Book Thief', 'The Call of the Wild', 'The Catcher in the Rye', 'The Color Purple', 'The Count of Monte Cristo', 'The God of Small Things', 'The Great Gatsby', \"The Handmaid's Tale\", \"The Hitchhiker's Guide to the Galaxy\", 'The Iliad', 'The Little Prince', 'The Lord of the Rings', 'The Martian', 'The Metamorphosis', 'The Odyssey', 'The Picture of Dorian Gray', 'The Remains of the Day', 'The Scarlet Letter', 'The Secret Garden', 'The Three Musketeers', 'The Wind in the Willows', 'Their Eyes Were Watching God', 'Things Fall Apart', 'To Kill a Mockingbird', 'Treasure Island', 'Wuthering Heights']\n"
          ]
        }
      ],
      "source": [
        "def get_all_lines(name) -> list[str]:\n",
        "    res = None\n",
        "\n",
        "    with open(name) as file:\n",
        "        res = file.read().splitlines()\n",
        "\n",
        "    return res\n",
        "\n",
        "def write_all_lines(ls, name):\n",
        "    with open(name, 'w') as file:\n",
        "        file.writelines(map(lambda a: a + '\\n', ls))\n",
        "\n",
        "def two_deque_sort(ls):\n",
        "    deque1 = Deque()\n",
        "    deque2 = Deque()\n",
        "\n",
        "    for i in ls:\n",
        "        if deque1.is_empty() or deque1.peak_end() < i:\n",
        "            deque1.push_end(i)\n",
        "        else:\n",
        "            while not deque1.is_empty() and deque1.peak_end() > i:\n",
        "                deque2.push_end(deque1.pop_end())\n",
        "\n",
        "            deque1.push_end(i)\n",
        "\n",
        "            while not deque2.is_empty():\n",
        "                deque1.push_end(deque2.pop_end())\n",
        "\n",
        "    for i in range(len(ls)):\n",
        "        ls[i] = deque1.pop_start()\n",
        "\n",
        "ls = get_all_lines(r'books.txt')\n",
        "\n",
        "two_deque_sort(ls)\n",
        "\n",
        "write_all_lines(ls, r'books-res.txt')\n",
        "\n",
        "print(ls)"
      ]
    },
    {
      "cell_type": "markdown",
      "id": "49fbd2a0",
      "metadata": {
        "id": "49fbd2a0"
      },
      "source": [
        "### Задание №2\n",
        "Дек содержит последовательность символов для шифровки сообщений. Дан текстовый файл, содержащий зашифрованное сообщение. Пользуясь деком, расшифровать текст.\n",
        "Известно, что при шифровке каждый символ сообщения заменялся следующим за ним в деке по часовой стрелке через один."
      ]
    },
    {
      "cell_type": "code",
      "execution_count": 11,
      "id": "81cab7a8",
      "metadata": {
        "id": "81cab7a8",
        "outputId": "f91bde63-87b5-4c17-caa5-c96574e55b32",
        "colab": {
          "base_uri": "https://localhost:8080/"
        }
      },
      "outputs": [
        {
          "output_type": "stream",
          "name": "stdout",
          "text": [
            "fcjn,kc\n"
          ]
        }
      ],
      "source": [
        "import string\n",
        "\n",
        "dec_deque = Deque()\n",
        "\n",
        "for i in [*string.ascii_letters, '\"', ',', '.', ' ']:\n",
        "    dec_deque.push_end(i)\n",
        "\n",
        "def decrypt(msg):\n",
        "    res = ''\n",
        "    for i in msg:\n",
        "        cur = ''\n",
        "\n",
        "        while cur != i:\n",
        "            cur = dec_deque.pop_end()\n",
        "            dec_deque.push_start(cur)\n",
        "\n",
        "        for _ in range(2):\n",
        "            cur = dec_deque.pop_end()\n",
        "            dec_deque.push_start(cur)\n",
        "\n",
        "        res += cur\n",
        "\n",
        "    return res\n",
        "\n",
        "dec = decrypt(get_all_lines(r'decdeq.txt')[0]) #help me\n",
        "\n",
        "write_all_lines([dec], r'decdeq-res.txt')\n",
        "\n",
        "print(dec)"
      ]
    },
    {
      "cell_type": "markdown",
      "id": "c0894f47",
      "metadata": {
        "id": "c0894f47"
      },
      "source": [
        "### Задание №3\n",
        "Даны три стержня и n дисков различного размера. Диски можно надевать на стержни, образуя из них башни. Перенести n дисков со стержня А на стержень С, сохранив их первоначальный порядок. При переносе дисков необходимо соблюдать следующие правила:\n",
        "- на каждом шаге со стержня на стержень переносить только один диск;\n",
        "- диск нельзя помещать на диск меньшего размера;\n",
        "- для промежуточного хранения можно использовать стержень В.\n",
        "Реализовать алгоритм, используя три стека вместо стержней А, В, С. Информация о дисках хранится в исходном файле."
      ]
    },
    {
      "cell_type": "code",
      "execution_count": null,
      "id": "9e91a9d4",
      "metadata": {
        "id": "9e91a9d4",
        "outputId": "a6757b1d-9817-414c-908f-50b9f2c18c2a"
      },
      "outputs": [
        {
          "name": "stdout",
          "output_type": "stream",
          "text": [
            "[]\n",
            "[]\n",
            "[7, 6, 5, 4, 3, 2, 1]\n"
          ]
        }
      ],
      "source": [
        "n = int(get_all_lines(r'rodlen.txt')[0])\n",
        "\n",
        "stackA = Stack(list(range(n, 0, -1)))\n",
        "stackB = Stack()\n",
        "stackC = Stack()\n",
        "\n",
        "def try_put(stack1: Stack, stack2: Stack):\n",
        "    if stack1.is_empty():\n",
        "        if not stack2.is_empty():\n",
        "            stack1.push(stack2.pop())\n",
        "        return\n",
        "\n",
        "    if stack2.is_empty():\n",
        "        if not stack1.is_empty():\n",
        "            stack2.push(stack1.pop())\n",
        "        return\n",
        "\n",
        "    if stack1.peak() <= stack2.peak():\n",
        "        stack2.push(stack1.pop())\n",
        "        return\n",
        "\n",
        "    stack1.push(stack2.pop())\n",
        "\n",
        "def even():\n",
        "    try_put(stackA, stackB)\n",
        "    try_put(stackA, stackC)\n",
        "    try_put(stackB, stackC)\n",
        "\n",
        "\n",
        "def odd():\n",
        "    try_put(stackA, stackB)\n",
        "    try_put(stackA, stackC)\n",
        "    try_put(stackC, stackB)\n",
        "\n",
        "go = odd\n",
        "\n",
        "if n%2 == 0:\n",
        "    go = even\n",
        "\n",
        "while not (stackA.is_empty() and stackB.is_empty()):\n",
        "    go()\n",
        "\n",
        "print(stackA.arr)\n",
        "print(stackB.arr)\n",
        "print(stackC.arr)"
      ]
    },
    {
      "cell_type": "markdown",
      "id": "e5b0be17",
      "metadata": {
        "id": "e5b0be17"
      },
      "source": [
        "### Задание №4\n",
        "Дан текстовый файл с программой на алгоритмическом языке. За один просмотр файла проверить баланс круглых скобок в тексте, используя стек."
      ]
    },
    {
      "cell_type": "code",
      "execution_count": 12,
      "id": "5b1df60a",
      "metadata": {
        "id": "5b1df60a",
        "outputId": "0a513966-da7f-40e7-b13d-1d99309b7a75",
        "colab": {
          "base_uri": "https://localhost:8080/"
        }
      },
      "outputs": [
        {
          "output_type": "stream",
          "name": "stdout",
          "text": [
            "False\n"
          ]
        }
      ],
      "source": [
        "stack = Stack()\n",
        "\n",
        "\n",
        "\n",
        "def check(st):\n",
        "    for i in st:\n",
        "        if i != '(' and i != ')':\n",
        "            continue\n",
        "\n",
        "        if i == '(':\n",
        "            stack.push(i)\n",
        "            continue\n",
        "\n",
        "        if stack.is_empty():\n",
        "            return False\n",
        "\n",
        "        stack.pop()\n",
        "\n",
        "    return stack.is_empty()\n",
        "\n",
        "print(check(''.join(get_all_lines(r'roundbracket.txt'))))"
      ]
    },
    {
      "cell_type": "code",
      "execution_count": null,
      "id": "eb264039",
      "metadata": {
        "id": "eb264039"
      },
      "outputs": [],
      "source": []
    },
    {
      "cell_type": "markdown",
      "id": "c44cdd6b",
      "metadata": {
        "id": "c44cdd6b"
      },
      "source": [
        "### Задание №5\n",
        "Дан текстовый файл с программой на алгоритмическом языке. За один просмотр файла проверить баланс квадратных скобок в тексте, используя дек."
      ]
    },
    {
      "cell_type": "code",
      "execution_count": 13,
      "id": "36b8f400",
      "metadata": {
        "id": "36b8f400",
        "colab": {
          "base_uri": "https://localhost:8080/"
        },
        "outputId": "73c35d03-bf1b-48e0-8ec7-7d2dd2d648cd"
      },
      "outputs": [
        {
          "output_type": "stream",
          "name": "stdout",
          "text": [
            "False\n"
          ]
        }
      ],
      "source": [
        "deq = Deque()\n",
        "\n",
        "def check(st):\n",
        "    for i in st:\n",
        "        if i != '[' and i != ']':\n",
        "            continue\n",
        "\n",
        "        if i == '[':\n",
        "            deq.push_end(i)\n",
        "            continue\n",
        "\n",
        "        if deq.is_empty():\n",
        "            return False\n",
        "\n",
        "        deq.pop_end()\n",
        "\n",
        "    return deq.is_empty()\n",
        "\n",
        "print(check(''.join(get_all_lines(r'squarebracket.txt'))))"
      ]
    },
    {
      "cell_type": "markdown",
      "id": "59d13dc7",
      "metadata": {
        "id": "59d13dc7"
      },
      "source": [
        "### Задание №6\n",
        "Дан файл из символов. Используя стек, за один просмотр файла напечатать сначала все цифры, затем все буквы, и, наконец, все остальные символы, сохраняя исходный порядок в каждой группе символов."
      ]
    },
    {
      "cell_type": "code",
      "execution_count": 15,
      "id": "297e36c2",
      "metadata": {
        "id": "297e36c2",
        "colab": {
          "base_uri": "https://localhost:8080/"
        },
        "outputId": "fcb25b9b-15d4-4dc1-e3fd-8907e0319343"
      },
      "outputs": [
        {
          "output_type": "stream",
          "name": "stdout",
          "text": [
            "2354525252Helloiamphunda  %   $  !  @"
          ]
        }
      ],
      "source": [
        "from string import ascii_letters\n",
        "\n",
        "write_all_lines([], r'groupssymb-res.txt')\n",
        "\n",
        "def print_to_file(name, ch):\n",
        "    with open(name, 'a') as file:\n",
        "        file.write(ch)\n",
        "\n",
        "def rec_print_stack(stack: Stack, checker):\n",
        "    el = stack.pop()\n",
        "    if not stack.is_empty():\n",
        "        rec_print_stack(stack, checker)\n",
        "\n",
        "    if checker(el):\n",
        "        print(el, end='')\n",
        "        print_to_file(r'groupssymb-res.txt', el)\n",
        "        return\n",
        "    stack.push(el)\n",
        "\n",
        "\n",
        "def mad_print(st: str):\n",
        "    stack = Stack()\n",
        "\n",
        "    for i in st:\n",
        "        if i.isdigit():\n",
        "            print(i, end='')\n",
        "            print_to_file(r'groupssymb-res.txt', i)\n",
        "            continue\n",
        "        stack.push(i)\n",
        "\n",
        "    rec_print_stack(stack, lambda el: el in ascii_letters)\n",
        "    rec_print_stack(stack, lambda a: True)\n",
        "\n",
        "mad_print(''.join(get_all_lines(r'groupssymb.txt')))"
      ]
    },
    {
      "cell_type": "markdown",
      "id": "973f68bd",
      "metadata": {
        "id": "973f68bd"
      },
      "source": [
        "### Задание №7\n",
        "Дан файл из целых чисел. Используя дек, за один просмотр файла напечатать сначала все отрицательные числа, затем все положительные числа, сохраняя исходный порядок в каждой группе."
      ]
    },
    {
      "cell_type": "code",
      "execution_count": null,
      "id": "c56fad66",
      "metadata": {
        "id": "c56fad66"
      },
      "outputs": [],
      "source": [
        "write_all_lines([], r'groupsnums-res.txt')\n",
        "\n",
        "def mad_print(st: list[int]):\n",
        "    deque = Deque()\n",
        "\n",
        "    for i in st:\n",
        "        if i < 0:\n",
        "            print(i, end=' ')\n",
        "            print_to_file(r'groupsnums-res.txt', str(i) + '\\n')\n",
        "        else:\n",
        "            deque.push_end(i)\n",
        "\n",
        "    while not deque.is_empty():\n",
        "        el = deque.pop_start()\n",
        "        print(el, end=' ')\n",
        "        print_to_file(r'groupsnums-res.txt', str(el) + '\\n')\n",
        "\n",
        "mad_print(map(int, get_all_lines(r'groupsnums.txt')))"
      ]
    },
    {
      "cell_type": "markdown",
      "id": "b9228191",
      "metadata": {
        "id": "b9228191"
      },
      "source": [
        "### Задание №8\n",
        "Дан текстовый файл. Используя стек, сформировать новый текстовый файл, содержащий строки исходного файла, записанные в обратном порядке: первая строка становится последней, вторая – предпоследней и т.д."
      ]
    },
    {
      "cell_type": "code",
      "execution_count": 21,
      "id": "981fbdfe",
      "metadata": {
        "id": "981fbdfe",
        "outputId": "12639d2b-fba2-49d3-97c1-ba32b88b666e",
        "colab": {
          "base_uri": "https://localhost:8080/"
        }
      },
      "outputs": [
        {
          "output_type": "stream",
          "name": "stdout",
          "text": [
            "['\"Сны о звёздной долине\"', '\"Загадочные следы\"', '\"Летящие камни\"', '\"Розовые сны чёрного мира\"', '\"Темный альянс\"', '\"Звездопад над горизонтом\"', '\"Ключи к забытым дверям\"', '\"Восходная тень\"', '\"Пламя осенней ночи\"', '\"Спрятанные ветры\"', '\"Тайна затерянного города\"', '\"Последний взгляд небес\"', '\"Лабиринты разума\"', '\"Огонь в глазах дракона\"', '\"Искусство затмения\"', '\"Сердце забытого короля\"', '\"Мгновения вечности\"', '\"Звездный лабиринт\"', '\"Тени прошлого\"', '\"Паутина снов\"']\n"
          ]
        }
      ],
      "source": [
        "def rev(lines: list[str]):\n",
        "    stack = Stack()\n",
        "\n",
        "    for i in lines:\n",
        "        stack.push(i)\n",
        "\n",
        "    new_ls = []\n",
        "\n",
        "    while not stack.is_empty():\n",
        "        new_ls.append(stack.pop())\n",
        "\n",
        "    return new_ls\n",
        "\n",
        "rev_lines = rev(get_all_lines(r'reverse.txt'))\n",
        "\n",
        "write_all_lines(rev_lines, r'reverse-res.txt')\n",
        "\n",
        "print(rev_lines)"
      ]
    },
    {
      "cell_type": "markdown",
      "id": "rental-jerusalem",
      "metadata": {
        "id": "rental-jerusalem"
      },
      "source": [
        "### Вывод\n"
      ]
    },
    {
      "cell_type": "markdown",
      "id": "0c2b8899",
      "metadata": {
        "id": "0c2b8899"
      },
      "source": [
        "Проделав данную лабораторную работу мы научились работать со Stack и Deque."
      ]
    }
  ],
  "metadata": {
    "colab": {
      "provenance": [],
      "include_colab_link": true
    },
    "kernelspec": {
      "display_name": "Python 3 (ipykernel)",
      "language": "python",
      "name": "python3"
    },
    "language_info": {
      "codemirror_mode": {
        "name": "ipython",
        "version": 3
      },
      "file_extension": ".py",
      "mimetype": "text/x-python",
      "name": "python",
      "nbconvert_exporter": "python",
      "pygments_lexer": "ipython3",
      "version": "3.12.1"
    }
  },
  "nbformat": 4,
  "nbformat_minor": 5
}