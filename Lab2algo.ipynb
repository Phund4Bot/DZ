{
  "cells": [
    {
      "cell_type": "markdown",
      "metadata": {
        "id": "view-in-github",
        "colab_type": "text"
      },
      "source": [
        "<a href=\"https://colab.research.google.com/github/Phund4Bot/DZ/blob/main/Lab2algo.ipynb\" target=\"_parent\"><img src=\"https://colab.research.google.com/assets/colab-badge.svg\" alt=\"Open In Colab\"/></a>"
      ]
    },
    {
      "cell_type": "markdown",
      "id": "fifteen-sailing",
      "metadata": {
        "id": "fifteen-sailing"
      },
      "source": [
        "# Лабораторная работа №2\n",
        "## Выполнил студент группы БВТ2203 Попов Александр"
      ]
    },
    {
      "cell_type": "markdown",
      "id": "arctic-stocks",
      "metadata": {
        "id": "arctic-stocks"
      },
      "source": [
        "Реализовать следующие структуры данных:\n",
        "  \n",
        "● <b> Стек (stack): </b>  \n",
        "Операции для стека:\n",
        "<i> инициализация, проверка на пустоту, добавление нового элемента в начало, извлечение элемента из начала;  </i>  \n",
        "  \n",
        "● <b> Дек (двусторонняя очередь, deque):  </b>  \n",
        "Операции для дека:\n",
        "<i> инициализация, проверка на пустоту, добавление нового элемента в начало, добавление нового элемента в конец, извлечение элемента из начала, извлечение элемента из конца. </i>  \n",
        "  \n",
        "<i> Разработать программу обработки данных, содержащихся в заранее подготовленном txt-файле, в соответствии с заданиями, применив указанную в задании структуру данных. Результат работы программы вывести на экран и сохранить в отдельном txt-файле. </i>"
      ]
    },
    {
      "cell_type": "code",
      "execution_count": 57,
      "id": "16bda601",
      "metadata": {
        "id": "16bda601"
      },
      "outputs": [],
      "source": [
        "class Node:\n",
        "    def __init__(self, data):\n",
        "        self.data = data\n",
        "        self.next = None\n",
        "\n",
        "class LinkedList:\n",
        "    def __init__(self):\n",
        "        self.head = None\n",
        "\n",
        "    def append(self, data):\n",
        "        new_node = Node(data)\n",
        "        if self.head is None:\n",
        "            self.head = new_node\n",
        "            return\n",
        "        last_node = self.head\n",
        "        while last_node.next:\n",
        "            last_node = last_node.next\n",
        "        last_node.next = new_node\n",
        "\n",
        "    def prepend(self, data):\n",
        "        new_node = Node(data)\n",
        "        new_node.next = self.head\n",
        "        self.head = new_node\n",
        "\n",
        "    def delete_start(self):\n",
        "        if self.head is None:\n",
        "            return None\n",
        "        buf = self.head.next\n",
        "        buf_res = None\n",
        "        if buf is not None:\n",
        "            buf_res = buf.data\n",
        "        self.head = buf\n",
        "        return buf_res\n",
        "\n",
        "    def delete_end(self):\n",
        "        if self.head.next is None:\n",
        "            self.head = None\n",
        "            return None\n",
        "        if self.head is None:\n",
        "            return None\n",
        "        current_node = self.head\n",
        "        while current_node.next:\n",
        "            current_node = current_node.next\n",
        "        res = current_node.data\n",
        "        current_node = None\n",
        "        return res\n",
        "\n",
        "    def peak(self):\n",
        "        if self.head is None:\n",
        "            return None\n",
        "        current_node = self.head\n",
        "        while current_node.next:\n",
        "            current_node = current_node.next\n",
        "        return current_node.data\n",
        "\n",
        "    def is_empty(self):\n",
        "        return self.head == None\n",
        "\n",
        "    def print_list(self):\n",
        "        current_node = self.head\n",
        "        while current_node:\n",
        "            print(current_node.data)\n",
        "            current_node = current_node.next\n",
        "\n",
        "\n",
        "class Stack:\n",
        "    def __init__(self, init_arr=None) -> None:\n",
        "        self.arr = LinkedList()\n",
        "        if init_arr != None:\n",
        "            self.arr = init_arr\n",
        "            for i in init_arr:\n",
        "                self.arr.append(i)\n",
        "\n",
        "    def is_empty(self) -> bool:\n",
        "        return self.arr.is_empty() == None\n",
        "\n",
        "    def push(self, el):\n",
        "        self.arr.append(el)\n",
        "\n",
        "    def pop(self):\n",
        "        if not self.is_empty():\n",
        "            return self.arr.delete_end()\n",
        "        return None\n",
        "\n",
        "    def peak(self):\n",
        "        return self.arr.peak()\n",
        "\n",
        "\n",
        "class Deque:\n",
        "    def __init__(self, init_arr=None) -> None:\n",
        "        self.arr = LinkedList()\n",
        "        if init_arr != None:\n",
        "            self.arr = init_arr\n",
        "            for i in init_arr:\n",
        "                self.arr.append(i)\n",
        "\n",
        "    def is_empty(self) -> bool:\n",
        "        return self.arr.is_empty()\n",
        "\n",
        "    def push_end(self, el):\n",
        "        self.arr.append(el)\n",
        "\n",
        "    def pop_end(self):\n",
        "        if not self.is_empty():\n",
        "            return self.arr.delete_end()\n",
        "        return None\n",
        "\n",
        "    def push_start(self, el):\n",
        "        self.arr.prepend(el)\n",
        "\n",
        "    def pop_start(self):\n",
        "        if not self.is_empty():\n",
        "            return self.arr.delete_start()\n",
        "        return None\n",
        "\n",
        "    def peak_end(self):\n",
        "        return self.arr.peak()"
      ]
    },
    {
      "cell_type": "markdown",
      "id": "5d7edb08",
      "metadata": {
        "id": "5d7edb08",
        "scrolled": true
      },
      "source": [
        "### Задание №1\n",
        "Отсортировать строки файла, содержащие названия книг, в алфавитном порядке с использованием двух деков."
      ]
    },
    {
      "cell_type": "code",
      "execution_count": 53,
      "id": "17702ade",
      "metadata": {
        "id": "17702ade",
        "outputId": "4486e907-b602-429f-b3f1-28ee6e44d198",
        "colab": {
          "base_uri": "https://localhost:8080/"
        }
      },
      "outputs": [
        {
          "output_type": "stream",
          "name": "stdout",
          "text": [
            "['Hi hello hi herllo']\n"
          ]
        }
      ],
      "source": [
        "def get_all_lines(name) -> list[str]:\n",
        "    res = None\n",
        "\n",
        "    with open(name) as file:\n",
        "        res = file.read().splitlines()\n",
        "\n",
        "    return res\n",
        "\n",
        "def write_all_lines(ls, name):\n",
        "    with open(name, 'w') as file:\n",
        "        file.writelines(map(lambda a: a + '\\n', ls))\n",
        "\n",
        "def two_deque_sort(ls):\n",
        "    deque1 = Deque()\n",
        "    deque2 = Deque()\n",
        "\n",
        "    for i in ls:\n",
        "        if deque1.is_empty() or deque1.peak_end() < i:\n",
        "            deque1.push_end(i)\n",
        "        else:\n",
        "            while not deque1.is_empty() and deque1.peak_end() > i:\n",
        "                deque2.push_end(deque1.pop_end())\n",
        "\n",
        "            deque1.push_end(i)\n",
        "\n",
        "            while not deque2.is_empty():\n",
        "                deque1.push_end(deque2.pop_end())\n",
        "\n",
        "    for i in range(len(ls)):\n",
        "        el = deque1.pop_start()\n",
        "        if el is not None:\n",
        "            ls[i] = deque1.pop_start()\n",
        "\n",
        "\n",
        "ls = get_all_lines(r'books.txt')\n",
        "\n",
        "two_deque_sort(ls)\n",
        "\n",
        "write_all_lines(ls, r'books-res.txt')\n",
        "\n",
        "print(ls)"
      ]
    },
    {
      "cell_type": "markdown",
      "id": "49fbd2a0",
      "metadata": {
        "id": "49fbd2a0"
      },
      "source": [
        "### Задание №2\n",
        "Дек содержит последовательность символов для шифровки сообщений. Дан текстовый файл, содержащий зашифрованное сообщение. Пользуясь деком, расшифровать текст.\n",
        "Известно, что при шифровке каждый символ сообщения заменялся следующим за ним в деке по часовой стрелке через один."
      ]
    },
    {
      "cell_type": "code",
      "execution_count": 62,
      "id": "81cab7a8",
      "metadata": {
        "id": "81cab7a8",
        "outputId": "e72f1995-814d-4bc3-e1ad-07c17351b7e9",
        "colab": {
          "base_uri": "https://localhost:8080/",
          "height": 356
        }
      },
      "outputs": [
        {
          "output_type": "error",
          "ename": "KeyboardInterrupt",
          "evalue": "",
          "traceback": [
            "\u001b[0;31m---------------------------------------------------------------------------\u001b[0m",
            "\u001b[0;31mKeyboardInterrupt\u001b[0m                         Traceback (most recent call last)",
            "\u001b[0;32m<ipython-input-62-57330bff7335>\u001b[0m in \u001b[0;36m<cell line: 25>\u001b[0;34m()\u001b[0m\n\u001b[1;32m     23\u001b[0m     \u001b[0;32mreturn\u001b[0m \u001b[0mres\u001b[0m\u001b[0;34m\u001b[0m\u001b[0;34m\u001b[0m\u001b[0m\n\u001b[1;32m     24\u001b[0m \u001b[0;34m\u001b[0m\u001b[0m\n\u001b[0;32m---> 25\u001b[0;31m \u001b[0mdec\u001b[0m \u001b[0;34m=\u001b[0m \u001b[0mdecrypt\u001b[0m\u001b[0;34m(\u001b[0m\u001b[0mget_all_lines\u001b[0m\u001b[0;34m(\u001b[0m\u001b[0;34mr'decdeq.txt'\u001b[0m\u001b[0;34m)\u001b[0m\u001b[0;34m[\u001b[0m\u001b[0;36m0\u001b[0m\u001b[0;34m]\u001b[0m\u001b[0;34m)\u001b[0m \u001b[0;31m#help me\u001b[0m\u001b[0;34m\u001b[0m\u001b[0;34m\u001b[0m\u001b[0m\n\u001b[0m\u001b[1;32m     26\u001b[0m \u001b[0;34m\u001b[0m\u001b[0m\n\u001b[1;32m     27\u001b[0m \u001b[0mwrite_all_lines\u001b[0m\u001b[0;34m(\u001b[0m\u001b[0;34m[\u001b[0m\u001b[0mdec\u001b[0m\u001b[0;34m]\u001b[0m\u001b[0;34m,\u001b[0m \u001b[0;34mr'decdeq-res.txt'\u001b[0m\u001b[0;34m)\u001b[0m\u001b[0;34m\u001b[0m\u001b[0;34m\u001b[0m\u001b[0m\n",
            "\u001b[0;32m<ipython-input-62-57330bff7335>\u001b[0m in \u001b[0;36mdecrypt\u001b[0;34m(msg)\u001b[0m\n\u001b[1;32m     12\u001b[0m \u001b[0;34m\u001b[0m\u001b[0m\n\u001b[1;32m     13\u001b[0m         \u001b[0;32mwhile\u001b[0m \u001b[0mcur\u001b[0m \u001b[0;34m!=\u001b[0m \u001b[0mi\u001b[0m\u001b[0;34m:\u001b[0m\u001b[0;34m\u001b[0m\u001b[0;34m\u001b[0m\u001b[0m\n\u001b[0;32m---> 14\u001b[0;31m             \u001b[0mcur\u001b[0m \u001b[0;34m=\u001b[0m \u001b[0mdec_deque\u001b[0m\u001b[0;34m.\u001b[0m\u001b[0mpop_end\u001b[0m\u001b[0;34m(\u001b[0m\u001b[0;34m)\u001b[0m\u001b[0;34m\u001b[0m\u001b[0;34m\u001b[0m\u001b[0m\n\u001b[0m\u001b[1;32m     15\u001b[0m             \u001b[0mdec_deque\u001b[0m\u001b[0;34m.\u001b[0m\u001b[0mpush_start\u001b[0m\u001b[0;34m(\u001b[0m\u001b[0mcur\u001b[0m\u001b[0;34m)\u001b[0m\u001b[0;34m\u001b[0m\u001b[0;34m\u001b[0m\u001b[0m\n\u001b[1;32m     16\u001b[0m \u001b[0;34m\u001b[0m\u001b[0m\n",
            "\u001b[0;32m<ipython-input-57-9b8be85bebcf>\u001b[0m in \u001b[0;36mpop_end\u001b[0;34m(self)\u001b[0m\n\u001b[1;32m    103\u001b[0m     \u001b[0;32mdef\u001b[0m \u001b[0mpop_end\u001b[0m\u001b[0;34m(\u001b[0m\u001b[0mself\u001b[0m\u001b[0;34m)\u001b[0m\u001b[0;34m:\u001b[0m\u001b[0;34m\u001b[0m\u001b[0;34m\u001b[0m\u001b[0m\n\u001b[1;32m    104\u001b[0m         \u001b[0;32mif\u001b[0m \u001b[0;32mnot\u001b[0m \u001b[0mself\u001b[0m\u001b[0;34m.\u001b[0m\u001b[0mis_empty\u001b[0m\u001b[0;34m(\u001b[0m\u001b[0;34m)\u001b[0m\u001b[0;34m:\u001b[0m\u001b[0;34m\u001b[0m\u001b[0;34m\u001b[0m\u001b[0m\n\u001b[0;32m--> 105\u001b[0;31m             \u001b[0;32mreturn\u001b[0m \u001b[0mself\u001b[0m\u001b[0;34m.\u001b[0m\u001b[0marr\u001b[0m\u001b[0;34m.\u001b[0m\u001b[0mdelete_end\u001b[0m\u001b[0;34m(\u001b[0m\u001b[0;34m)\u001b[0m\u001b[0;34m\u001b[0m\u001b[0;34m\u001b[0m\u001b[0m\n\u001b[0m\u001b[1;32m    106\u001b[0m         \u001b[0;32mreturn\u001b[0m \u001b[0;32mNone\u001b[0m\u001b[0;34m\u001b[0m\u001b[0;34m\u001b[0m\u001b[0m\n\u001b[1;32m    107\u001b[0m \u001b[0;34m\u001b[0m\u001b[0m\n",
            "\u001b[0;32m<ipython-input-57-9b8be85bebcf>\u001b[0m in \u001b[0;36mdelete_end\u001b[0;34m(self)\u001b[0m\n\u001b[1;32m     40\u001b[0m             \u001b[0;32mreturn\u001b[0m \u001b[0;32mNone\u001b[0m\u001b[0;34m\u001b[0m\u001b[0;34m\u001b[0m\u001b[0m\n\u001b[1;32m     41\u001b[0m         \u001b[0mcurrent_node\u001b[0m \u001b[0;34m=\u001b[0m \u001b[0mself\u001b[0m\u001b[0;34m.\u001b[0m\u001b[0mhead\u001b[0m\u001b[0;34m\u001b[0m\u001b[0;34m\u001b[0m\u001b[0m\n\u001b[0;32m---> 42\u001b[0;31m         \u001b[0;32mwhile\u001b[0m \u001b[0mcurrent_node\u001b[0m\u001b[0;34m.\u001b[0m\u001b[0mnext\u001b[0m\u001b[0;34m:\u001b[0m\u001b[0;34m\u001b[0m\u001b[0;34m\u001b[0m\u001b[0m\n\u001b[0m\u001b[1;32m     43\u001b[0m             \u001b[0mcurrent_node\u001b[0m \u001b[0;34m=\u001b[0m \u001b[0mcurrent_node\u001b[0m\u001b[0;34m.\u001b[0m\u001b[0mnext\u001b[0m\u001b[0;34m\u001b[0m\u001b[0;34m\u001b[0m\u001b[0m\n\u001b[1;32m     44\u001b[0m         \u001b[0mres\u001b[0m \u001b[0;34m=\u001b[0m \u001b[0mcurrent_node\u001b[0m\u001b[0;34m.\u001b[0m\u001b[0mdata\u001b[0m\u001b[0;34m\u001b[0m\u001b[0;34m\u001b[0m\u001b[0m\n",
            "\u001b[0;31mKeyboardInterrupt\u001b[0m: "
          ]
        }
      ],
      "source": [
        "import string\n",
        "\n",
        "dec_deque = Deque()\n",
        "\n",
        "for i in [*string.ascii_letters, '\"', ',', '.', ' ']:\n",
        "    dec_deque.push_end(i)\n",
        "\n",
        "def decrypt(msg):\n",
        "    res = ''\n",
        "    for i in msg:\n",
        "        cur = ''\n",
        "\n",
        "        while cur != i:\n",
        "            cur = dec_deque.pop_end()\n",
        "            dec_deque.push_start(cur)\n",
        "\n",
        "        for _ in range(2):\n",
        "            cur = dec_deque.pop_end()\n",
        "            dec_deque.push_start(cur)\n",
        "\n",
        "        res += cur\n",
        "\n",
        "    return res\n",
        "\n",
        "dec = decrypt(get_all_lines(r'decdeq.txt')[0]) #help me\n",
        "\n",
        "write_all_lines([dec], r'decdeq-res.txt')\n",
        "\n",
        "print(dec)"
      ]
    },
    {
      "cell_type": "markdown",
      "id": "c0894f47",
      "metadata": {
        "id": "c0894f47"
      },
      "source": [
        "### Задание №3\n",
        "Даны три стержня и n дисков различного размера. Диски можно надевать на стержни, образуя из них башни. Перенести n дисков со стержня А на стержень С, сохранив их первоначальный порядок. При переносе дисков необходимо соблюдать следующие правила:\n",
        "- на каждом шаге со стержня на стержень переносить только один диск;\n",
        "- диск нельзя помещать на диск меньшего размера;\n",
        "- для промежуточного хранения можно использовать стержень В.\n",
        "Реализовать алгоритм, используя три стека вместо стержней А, В, С. Информация о дисках хранится в исходном файле."
      ]
    },
    {
      "cell_type": "code",
      "execution_count": 63,
      "id": "9e91a9d4",
      "metadata": {
        "id": "9e91a9d4",
        "outputId": "ececa10a-aa6e-44eb-edd8-baada3531c6b",
        "colab": {
          "base_uri": "https://localhost:8080/",
          "height": 332
        }
      },
      "outputs": [
        {
          "output_type": "error",
          "ename": "FileNotFoundError",
          "evalue": "[Errno 2] No such file or directory: 'rodlen.txt'",
          "traceback": [
            "\u001b[0;31m---------------------------------------------------------------------------\u001b[0m",
            "\u001b[0;31mFileNotFoundError\u001b[0m                         Traceback (most recent call last)",
            "\u001b[0;32m<ipython-input-63-129d2631c7e1>\u001b[0m in \u001b[0;36m<cell line: 1>\u001b[0;34m()\u001b[0m\n\u001b[0;32m----> 1\u001b[0;31m \u001b[0mn\u001b[0m \u001b[0;34m=\u001b[0m \u001b[0mint\u001b[0m\u001b[0;34m(\u001b[0m\u001b[0mget_all_lines\u001b[0m\u001b[0;34m(\u001b[0m\u001b[0;34mr'rodlen.txt'\u001b[0m\u001b[0;34m)\u001b[0m\u001b[0;34m[\u001b[0m\u001b[0;36m0\u001b[0m\u001b[0;34m]\u001b[0m\u001b[0;34m)\u001b[0m\u001b[0;34m\u001b[0m\u001b[0;34m\u001b[0m\u001b[0m\n\u001b[0m\u001b[1;32m      2\u001b[0m \u001b[0;34m\u001b[0m\u001b[0m\n\u001b[1;32m      3\u001b[0m \u001b[0mstackA\u001b[0m \u001b[0;34m=\u001b[0m \u001b[0mStack\u001b[0m\u001b[0;34m(\u001b[0m\u001b[0mlist\u001b[0m\u001b[0;34m(\u001b[0m\u001b[0mrange\u001b[0m\u001b[0;34m(\u001b[0m\u001b[0mn\u001b[0m\u001b[0;34m,\u001b[0m \u001b[0;36m0\u001b[0m\u001b[0;34m,\u001b[0m \u001b[0;34m-\u001b[0m\u001b[0;36m1\u001b[0m\u001b[0;34m)\u001b[0m\u001b[0;34m)\u001b[0m\u001b[0;34m)\u001b[0m\u001b[0;34m\u001b[0m\u001b[0;34m\u001b[0m\u001b[0m\n\u001b[1;32m      4\u001b[0m \u001b[0mstackB\u001b[0m \u001b[0;34m=\u001b[0m \u001b[0mStack\u001b[0m\u001b[0;34m(\u001b[0m\u001b[0;34m)\u001b[0m\u001b[0;34m\u001b[0m\u001b[0;34m\u001b[0m\u001b[0m\n\u001b[1;32m      5\u001b[0m \u001b[0mstackC\u001b[0m \u001b[0;34m=\u001b[0m \u001b[0mStack\u001b[0m\u001b[0;34m(\u001b[0m\u001b[0;34m)\u001b[0m\u001b[0;34m\u001b[0m\u001b[0;34m\u001b[0m\u001b[0m\n",
            "\u001b[0;32m<ipython-input-53-e8230f946fa2>\u001b[0m in \u001b[0;36mget_all_lines\u001b[0;34m(name)\u001b[0m\n\u001b[1;32m      2\u001b[0m     \u001b[0mres\u001b[0m \u001b[0;34m=\u001b[0m \u001b[0;32mNone\u001b[0m\u001b[0;34m\u001b[0m\u001b[0;34m\u001b[0m\u001b[0m\n\u001b[1;32m      3\u001b[0m \u001b[0;34m\u001b[0m\u001b[0m\n\u001b[0;32m----> 4\u001b[0;31m     \u001b[0;32mwith\u001b[0m \u001b[0mopen\u001b[0m\u001b[0;34m(\u001b[0m\u001b[0mname\u001b[0m\u001b[0;34m)\u001b[0m \u001b[0;32mas\u001b[0m \u001b[0mfile\u001b[0m\u001b[0;34m:\u001b[0m\u001b[0;34m\u001b[0m\u001b[0;34m\u001b[0m\u001b[0m\n\u001b[0m\u001b[1;32m      5\u001b[0m         \u001b[0mres\u001b[0m \u001b[0;34m=\u001b[0m \u001b[0mfile\u001b[0m\u001b[0;34m.\u001b[0m\u001b[0mread\u001b[0m\u001b[0;34m(\u001b[0m\u001b[0;34m)\u001b[0m\u001b[0;34m.\u001b[0m\u001b[0msplitlines\u001b[0m\u001b[0;34m(\u001b[0m\u001b[0;34m)\u001b[0m\u001b[0;34m\u001b[0m\u001b[0;34m\u001b[0m\u001b[0m\n\u001b[1;32m      6\u001b[0m \u001b[0;34m\u001b[0m\u001b[0m\n",
            "\u001b[0;31mFileNotFoundError\u001b[0m: [Errno 2] No such file or directory: 'rodlen.txt'"
          ]
        }
      ],
      "source": [
        "n = int(get_all_lines(r'rodlen.txt')[0])\n",
        "\n",
        "stackA = Stack(list(range(n, 0, -1)))\n",
        "stackB = Stack()\n",
        "stackC = Stack()\n",
        "\n",
        "def try_put(stack1: Stack, stack2: Stack):\n",
        "    if stack1.is_empty():\n",
        "        if not stack2.is_empty():\n",
        "            stack1.push(stack2.pop())\n",
        "        return\n",
        "\n",
        "    if stack2.is_empty():\n",
        "        if not stack1.is_empty():\n",
        "            stack2.push(stack1.pop())\n",
        "        return\n",
        "\n",
        "    if stack1.peak() <= stack2.peak():\n",
        "        stack2.push(stack1.pop())\n",
        "        return\n",
        "\n",
        "    stack1.push(stack2.pop())\n",
        "\n",
        "def even():\n",
        "    try_put(stackA, stackB)\n",
        "    try_put(stackA, stackC)\n",
        "    try_put(stackB, stackC)\n",
        "\n",
        "\n",
        "def odd():\n",
        "    try_put(stackA, stackB)\n",
        "    try_put(stackA, stackC)\n",
        "    try_put(stackC, stackB)\n",
        "\n",
        "go = odd\n",
        "\n",
        "if n%2 == 0:\n",
        "    go = even\n",
        "\n",
        "while not (stackA.is_empty() and stackB.is_empty()):\n",
        "    go()\n",
        "\n",
        "print(stackA.arr)\n",
        "print(stackB.arr)\n",
        "print(stackC.arr)"
      ]
    },
    {
      "cell_type": "markdown",
      "id": "e5b0be17",
      "metadata": {
        "id": "e5b0be17"
      },
      "source": [
        "### Задание №4\n",
        "Дан текстовый файл с программой на алгоритмическом языке. За один просмотр файла проверить баланс круглых скобок в тексте, используя стек."
      ]
    },
    {
      "cell_type": "code",
      "execution_count": 64,
      "id": "5b1df60a",
      "metadata": {
        "id": "5b1df60a",
        "outputId": "b4925dc8-6e4b-4bbf-f056-5beef256b525",
        "colab": {
          "base_uri": "https://localhost:8080/"
        }
      },
      "outputs": [
        {
          "output_type": "stream",
          "name": "stdout",
          "text": [
            "False\n"
          ]
        }
      ],
      "source": [
        "stack = Stack()\n",
        "\n",
        "\n",
        "\n",
        "def check(st):\n",
        "    for i in st:\n",
        "        if i != '(' and i != ')':\n",
        "            continue\n",
        "\n",
        "        if i == '(':\n",
        "            stack.push(i)\n",
        "            continue\n",
        "\n",
        "        if stack.is_empty():\n",
        "            return False\n",
        "\n",
        "        stack.pop()\n",
        "\n",
        "    return stack.is_empty()\n",
        "\n",
        "print(check(''.join(get_all_lines(r'roundbracket.txt'))))"
      ]
    },
    {
      "cell_type": "code",
      "execution_count": null,
      "id": "eb264039",
      "metadata": {
        "id": "eb264039"
      },
      "outputs": [],
      "source": []
    },
    {
      "cell_type": "markdown",
      "id": "c44cdd6b",
      "metadata": {
        "id": "c44cdd6b"
      },
      "source": [
        "### Задание №5\n",
        "Дан текстовый файл с программой на алгоритмическом языке. За один просмотр файла проверить баланс квадратных скобок в тексте, используя дек."
      ]
    },
    {
      "cell_type": "code",
      "execution_count": 65,
      "id": "36b8f400",
      "metadata": {
        "id": "36b8f400",
        "colab": {
          "base_uri": "https://localhost:8080/"
        },
        "outputId": "44a3e714-a53d-483b-acd6-b3bb226c9dcc"
      },
      "outputs": [
        {
          "output_type": "stream",
          "name": "stdout",
          "text": [
            "False\n"
          ]
        }
      ],
      "source": [
        "deq = Deque()\n",
        "\n",
        "def check(st):\n",
        "    for i in st:\n",
        "        if i != '[' and i != ']':\n",
        "            continue\n",
        "\n",
        "        if i == '[':\n",
        "            deq.push_end(i)\n",
        "            continue\n",
        "\n",
        "        if deq.is_empty():\n",
        "            return False\n",
        "\n",
        "        deq.pop_end()\n",
        "\n",
        "    return deq.is_empty()\n",
        "\n",
        "print(check(''.join(get_all_lines(r'squarebracket.txt'))))"
      ]
    },
    {
      "cell_type": "markdown",
      "id": "59d13dc7",
      "metadata": {
        "id": "59d13dc7"
      },
      "source": [
        "### Задание №6\n",
        "Дан файл из символов. Используя стек, за один просмотр файла напечатать сначала все цифры, затем все буквы, и, наконец, все остальные символы, сохраняя исходный порядок в каждой группе символов."
      ]
    },
    {
      "cell_type": "code",
      "execution_count": 67,
      "id": "297e36c2",
      "metadata": {
        "id": "297e36c2",
        "colab": {
          "base_uri": "https://localhost:8080/",
          "height": 374
        },
        "outputId": "b59912de-da33-498b-e0e9-9d511c4a0d65"
      },
      "outputs": [
        {
          "output_type": "stream",
          "name": "stdout",
          "text": [
            "4373326"
          ]
        },
        {
          "output_type": "error",
          "ename": "RecursionError",
          "evalue": "maximum recursion depth exceeded in comparison",
          "traceback": [
            "\u001b[0;31m---------------------------------------------------------------------------\u001b[0m",
            "\u001b[0;31mRecursionError\u001b[0m                            Traceback (most recent call last)",
            "\u001b[0;32m<ipython-input-67-1de410b79e7f>\u001b[0m in \u001b[0;36m<cell line: 34>\u001b[0;34m()\u001b[0m\n\u001b[1;32m     32\u001b[0m     \u001b[0mrec_print_stack\u001b[0m\u001b[0;34m(\u001b[0m\u001b[0mstack\u001b[0m\u001b[0;34m,\u001b[0m \u001b[0;32mlambda\u001b[0m \u001b[0ma\u001b[0m\u001b[0;34m:\u001b[0m \u001b[0;32mTrue\u001b[0m\u001b[0;34m)\u001b[0m\u001b[0;34m\u001b[0m\u001b[0;34m\u001b[0m\u001b[0m\n\u001b[1;32m     33\u001b[0m \u001b[0;34m\u001b[0m\u001b[0m\n\u001b[0;32m---> 34\u001b[0;31m \u001b[0mmad_print\u001b[0m\u001b[0;34m(\u001b[0m\u001b[0;34m''\u001b[0m\u001b[0;34m.\u001b[0m\u001b[0mjoin\u001b[0m\u001b[0;34m(\u001b[0m\u001b[0mget_all_lines\u001b[0m\u001b[0;34m(\u001b[0m\u001b[0;34mr'groupssymb.txt'\u001b[0m\u001b[0;34m)\u001b[0m\u001b[0;34m)\u001b[0m\u001b[0;34m)\u001b[0m\u001b[0;34m\u001b[0m\u001b[0;34m\u001b[0m\u001b[0m\n\u001b[0m",
            "\u001b[0;32m<ipython-input-67-1de410b79e7f>\u001b[0m in \u001b[0;36mmad_print\u001b[0;34m(st)\u001b[0m\n\u001b[1;32m     29\u001b[0m         \u001b[0mstack\u001b[0m\u001b[0;34m.\u001b[0m\u001b[0mpush\u001b[0m\u001b[0;34m(\u001b[0m\u001b[0mi\u001b[0m\u001b[0;34m)\u001b[0m\u001b[0;34m\u001b[0m\u001b[0;34m\u001b[0m\u001b[0m\n\u001b[1;32m     30\u001b[0m \u001b[0;34m\u001b[0m\u001b[0m\n\u001b[0;32m---> 31\u001b[0;31m     \u001b[0mrec_print_stack\u001b[0m\u001b[0;34m(\u001b[0m\u001b[0mstack\u001b[0m\u001b[0;34m,\u001b[0m \u001b[0;32mlambda\u001b[0m \u001b[0mel\u001b[0m\u001b[0;34m:\u001b[0m \u001b[0mel\u001b[0m \u001b[0;32min\u001b[0m \u001b[0mascii_letters\u001b[0m\u001b[0;34m)\u001b[0m\u001b[0;34m\u001b[0m\u001b[0;34m\u001b[0m\u001b[0m\n\u001b[0m\u001b[1;32m     32\u001b[0m     \u001b[0mrec_print_stack\u001b[0m\u001b[0;34m(\u001b[0m\u001b[0mstack\u001b[0m\u001b[0;34m,\u001b[0m \u001b[0;32mlambda\u001b[0m \u001b[0ma\u001b[0m\u001b[0;34m:\u001b[0m \u001b[0;32mTrue\u001b[0m\u001b[0;34m)\u001b[0m\u001b[0;34m\u001b[0m\u001b[0;34m\u001b[0m\u001b[0m\n\u001b[1;32m     33\u001b[0m \u001b[0;34m\u001b[0m\u001b[0m\n",
            "\u001b[0;32m<ipython-input-67-1de410b79e7f>\u001b[0m in \u001b[0;36mrec_print_stack\u001b[0;34m(stack, checker)\u001b[0m\n\u001b[1;32m     10\u001b[0m     \u001b[0mel\u001b[0m \u001b[0;34m=\u001b[0m \u001b[0mstack\u001b[0m\u001b[0;34m.\u001b[0m\u001b[0mpop\u001b[0m\u001b[0;34m(\u001b[0m\u001b[0;34m)\u001b[0m\u001b[0;34m\u001b[0m\u001b[0;34m\u001b[0m\u001b[0m\n\u001b[1;32m     11\u001b[0m     \u001b[0;32mif\u001b[0m \u001b[0;32mnot\u001b[0m \u001b[0mstack\u001b[0m\u001b[0;34m.\u001b[0m\u001b[0mis_empty\u001b[0m\u001b[0;34m(\u001b[0m\u001b[0;34m)\u001b[0m\u001b[0;34m:\u001b[0m\u001b[0;34m\u001b[0m\u001b[0;34m\u001b[0m\u001b[0m\n\u001b[0;32m---> 12\u001b[0;31m         \u001b[0mrec_print_stack\u001b[0m\u001b[0;34m(\u001b[0m\u001b[0mstack\u001b[0m\u001b[0;34m,\u001b[0m \u001b[0mchecker\u001b[0m\u001b[0;34m)\u001b[0m\u001b[0;34m\u001b[0m\u001b[0;34m\u001b[0m\u001b[0m\n\u001b[0m\u001b[1;32m     13\u001b[0m \u001b[0;34m\u001b[0m\u001b[0m\n\u001b[1;32m     14\u001b[0m     \u001b[0;32mif\u001b[0m \u001b[0mchecker\u001b[0m\u001b[0;34m(\u001b[0m\u001b[0mel\u001b[0m\u001b[0;34m)\u001b[0m\u001b[0;34m:\u001b[0m\u001b[0;34m\u001b[0m\u001b[0;34m\u001b[0m\u001b[0m\n",
            "... last 1 frames repeated, from the frame below ...\n",
            "\u001b[0;32m<ipython-input-67-1de410b79e7f>\u001b[0m in \u001b[0;36mrec_print_stack\u001b[0;34m(stack, checker)\u001b[0m\n\u001b[1;32m     10\u001b[0m     \u001b[0mel\u001b[0m \u001b[0;34m=\u001b[0m \u001b[0mstack\u001b[0m\u001b[0;34m.\u001b[0m\u001b[0mpop\u001b[0m\u001b[0;34m(\u001b[0m\u001b[0;34m)\u001b[0m\u001b[0;34m\u001b[0m\u001b[0;34m\u001b[0m\u001b[0m\n\u001b[1;32m     11\u001b[0m     \u001b[0;32mif\u001b[0m \u001b[0;32mnot\u001b[0m \u001b[0mstack\u001b[0m\u001b[0;34m.\u001b[0m\u001b[0mis_empty\u001b[0m\u001b[0;34m(\u001b[0m\u001b[0;34m)\u001b[0m\u001b[0;34m:\u001b[0m\u001b[0;34m\u001b[0m\u001b[0;34m\u001b[0m\u001b[0m\n\u001b[0;32m---> 12\u001b[0;31m         \u001b[0mrec_print_stack\u001b[0m\u001b[0;34m(\u001b[0m\u001b[0mstack\u001b[0m\u001b[0;34m,\u001b[0m \u001b[0mchecker\u001b[0m\u001b[0;34m)\u001b[0m\u001b[0;34m\u001b[0m\u001b[0;34m\u001b[0m\u001b[0m\n\u001b[0m\u001b[1;32m     13\u001b[0m \u001b[0;34m\u001b[0m\u001b[0m\n\u001b[1;32m     14\u001b[0m     \u001b[0;32mif\u001b[0m \u001b[0mchecker\u001b[0m\u001b[0;34m(\u001b[0m\u001b[0mel\u001b[0m\u001b[0;34m)\u001b[0m\u001b[0;34m:\u001b[0m\u001b[0;34m\u001b[0m\u001b[0;34m\u001b[0m\u001b[0m\n",
            "\u001b[0;31mRecursionError\u001b[0m: maximum recursion depth exceeded in comparison"
          ]
        }
      ],
      "source": [
        "from string import ascii_letters\n",
        "\n",
        "write_all_lines([], r'groupssymb-res.txt')\n",
        "\n",
        "def print_to_file(name, ch):\n",
        "    with open(name, 'a') as file:\n",
        "        file.write(ch)\n",
        "\n",
        "def rec_print_stack(stack: Stack, checker):\n",
        "    el = stack.pop()\n",
        "    if not stack.is_empty():\n",
        "        rec_print_stack(stack, checker)\n",
        "\n",
        "    if checker(el):\n",
        "        print(el, end='')\n",
        "        print_to_file(r'groupssymb-res.txt', el)\n",
        "        return\n",
        "    stack.push(el)\n",
        "\n",
        "\n",
        "def mad_print(st: str):\n",
        "    stack = Stack()\n",
        "\n",
        "    for i in st:\n",
        "        if i.isdigit():\n",
        "            print(i, end='')\n",
        "            print_to_file(r'groupssymb-res.txt', i)\n",
        "            continue\n",
        "        stack.push(i)\n",
        "\n",
        "    rec_print_stack(stack, lambda el: el in ascii_letters)\n",
        "    rec_print_stack(stack, lambda a: True)\n",
        "\n",
        "mad_print(''.join(get_all_lines(r'groupssymb.txt')))"
      ]
    },
    {
      "cell_type": "markdown",
      "id": "973f68bd",
      "metadata": {
        "id": "973f68bd"
      },
      "source": [
        "### Задание №7\n",
        "Дан файл из целых чисел. Используя дек, за один просмотр файла напечатать сначала все отрицательные числа, затем все положительные числа, сохраняя исходный порядок в каждой группе."
      ]
    },
    {
      "cell_type": "code",
      "execution_count": null,
      "id": "c56fad66",
      "metadata": {
        "id": "c56fad66",
        "outputId": "a16981e4-2ec7-461f-8261-7e55e9099161",
        "colab": {
          "base_uri": "https://localhost:8080/"
        }
      },
      "outputs": [
        {
          "output_type": "stream",
          "name": "stdout",
          "text": [
            "-2 -3 -2 -1 1 2 3 4 5 6 4\n"
          ]
        }
      ],
      "source": [
        "file = open(\"groupsnums.txt\", \"r\").readline()\n",
        "arr1 = list(map(int, file.split()))\n",
        "\n",
        "def groups_nums(arr: list):\n",
        "    if len(arr) == 0: return \"\"\n",
        "    deq = Deque()\n",
        "    for i in range(len(arr)-1, -1, -1):\n",
        "        if arr[i] >= 0:\n",
        "            deq.push_end(arr[i])\n",
        "        else:\n",
        "            deq.push_start(arr[i])\n",
        "    res = \"\"\n",
        "    temp = deq.pop_start()\n",
        "    while (not deq.is_empty() and temp < 0):\n",
        "        res+=str(temp) + \" \"\n",
        "        temp = deq.pop_start()\n",
        "    while (not deq.is_empty()):\n",
        "        res+= str(deq.pop_end()) + \" \"\n",
        "    return res+str(temp)\n",
        "\n",
        "res = groups_nums(arr1)\n",
        "print(res)"
      ]
    },
    {
      "cell_type": "markdown",
      "id": "b9228191",
      "metadata": {
        "id": "b9228191"
      },
      "source": [
        "### Задание №8\n",
        "Дан текстовый файл. Используя стек, сформировать новый текстовый файл, содержащий строки исходного файла, записанные в обратном порядке: первая строка становится последней, вторая – предпоследней и т.д."
      ]
    },
    {
      "cell_type": "code",
      "execution_count": null,
      "id": "981fbdfe",
      "metadata": {
        "id": "981fbdfe",
        "outputId": "12639d2b-fba2-49d3-97c1-ba32b88b666e",
        "colab": {
          "base_uri": "https://localhost:8080/"
        }
      },
      "outputs": [
        {
          "output_type": "stream",
          "name": "stdout",
          "text": [
            "['\"Сны о звёздной долине\"', '\"Загадочные следы\"', '\"Летящие камни\"', '\"Розовые сны чёрного мира\"', '\"Темный альянс\"', '\"Звездопад над горизонтом\"', '\"Ключи к забытым дверям\"', '\"Восходная тень\"', '\"Пламя осенней ночи\"', '\"Спрятанные ветры\"', '\"Тайна затерянного города\"', '\"Последний взгляд небес\"', '\"Лабиринты разума\"', '\"Огонь в глазах дракона\"', '\"Искусство затмения\"', '\"Сердце забытого короля\"', '\"Мгновения вечности\"', '\"Звездный лабиринт\"', '\"Тени прошлого\"', '\"Паутина снов\"']\n"
          ]
        }
      ],
      "source": [
        "def rev(lines: list[str]):\n",
        "    stack = Stack()\n",
        "\n",
        "    for i in lines:\n",
        "        stack.push(i)\n",
        "\n",
        "    new_ls = []\n",
        "\n",
        "    while not stack.is_empty():\n",
        "        new_ls.append(stack.pop())\n",
        "\n",
        "    return new_ls\n",
        "\n",
        "rev_lines = rev(get_all_lines(r'reverse.txt'))\n",
        "\n",
        "write_all_lines(rev_lines, r'reverse-res.txt')\n",
        "\n",
        "print(rev_lines)"
      ]
    },
    {
      "cell_type": "markdown",
      "id": "rental-jerusalem",
      "metadata": {
        "id": "rental-jerusalem"
      },
      "source": [
        "### Вывод\n"
      ]
    },
    {
      "cell_type": "markdown",
      "id": "0c2b8899",
      "metadata": {
        "id": "0c2b8899"
      },
      "source": [
        "Проделав данную лабораторную работу мы научились работать со Stack и Deque."
      ]
    }
  ],
  "metadata": {
    "colab": {
      "provenance": [],
      "include_colab_link": true
    },
    "kernelspec": {
      "display_name": "Python 3 (ipykernel)",
      "language": "python",
      "name": "python3"
    },
    "language_info": {
      "codemirror_mode": {
        "name": "ipython",
        "version": 3
      },
      "file_extension": ".py",
      "mimetype": "text/x-python",
      "name": "python",
      "nbconvert_exporter": "python",
      "pygments_lexer": "ipython3",
      "version": "3.12.1"
    }
  },
  "nbformat": 4,
  "nbformat_minor": 5
}