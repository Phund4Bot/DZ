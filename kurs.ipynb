{
  "cells": [
    {
      "cell_type": "markdown",
      "metadata": {
        "id": "view-in-github",
        "colab_type": "text"
      },
      "source": [
        "<a href=\"https://colab.research.google.com/github/Phund4Bot/DZ/blob/main/kurs.ipynb\" target=\"_parent\"><img src=\"https://colab.research.google.com/assets/colab-badge.svg\" alt=\"Open In Colab\"/></a>"
      ]
    },
    {
      "cell_type": "markdown",
      "metadata": {
        "id": "OGPGrQWcWppe"
      },
      "source": [
        "<h>Spark ML <h>"
      ]
    },
    {
      "cell_type": "code",
      "source": [
        "! pip install pyspark"
      ],
      "metadata": {
        "id": "K6zvamDPWsol",
        "colab": {
          "base_uri": "https://localhost:8080/"
        },
        "outputId": "814d3ec9-0160-40f4-cfc9-aad757878082"
      },
      "execution_count": 1,
      "outputs": [
        {
          "output_type": "stream",
          "name": "stdout",
          "text": [
            "Collecting pyspark\n",
            "  Downloading pyspark-3.5.1.tar.gz (317.0 MB)\n",
            "\u001b[2K     \u001b[90m━━━━━━━━━━━━━━━━━━━━━━━━━━━━━━━━━━━━━━━━\u001b[0m \u001b[32m317.0/317.0 MB\u001b[0m \u001b[31m3.5 MB/s\u001b[0m eta \u001b[36m0:00:00\u001b[0m\n",
            "\u001b[?25h  Preparing metadata (setup.py) ... \u001b[?25l\u001b[?25hdone\n",
            "Requirement already satisfied: py4j==0.10.9.7 in /usr/local/lib/python3.10/dist-packages (from pyspark) (0.10.9.7)\n",
            "Building wheels for collected packages: pyspark\n",
            "  Building wheel for pyspark (setup.py) ... \u001b[?25l\u001b[?25hdone\n",
            "  Created wheel for pyspark: filename=pyspark-3.5.1-py2.py3-none-any.whl size=317488491 sha256=f7f2b352b4c6f67ce40c90a407fc1a4ead54e802d3e23c08364bcfd298860bf6\n",
            "  Stored in directory: /root/.cache/pip/wheels/80/1d/60/2c256ed38dddce2fdd93be545214a63e02fbd8d74fb0b7f3a6\n",
            "Successfully built pyspark\n",
            "Installing collected packages: pyspark\n",
            "Successfully installed pyspark-3.5.1\n"
          ]
        }
      ]
    },
    {
      "cell_type": "code",
      "execution_count": 197,
      "metadata": {
        "id": "_dtoNK95Wppm"
      },
      "outputs": [],
      "source": [
        "from pyspark.sql import SparkSession\n",
        "from pyspark.ml import Pipeline\n",
        "from pyspark.ml.feature import StringIndexer # Выполнение энкодинга\n",
        "from pyspark.ml.feature import VectorAssembler\n",
        "from pyspark.ml.evaluation import MulticlassClassificationEvaluator\n",
        "from pyspark.sql.functions import split\n",
        "from pyspark.sql.functions import col\n",
        "from pyspark.sql.functions import when\n",
        "\n",
        "\n",
        "\n"
      ]
    },
    {
      "cell_type": "code",
      "execution_count": 3,
      "metadata": {
        "id": "_iu4H5TZWppq"
      },
      "outputs": [],
      "source": [
        "spark = SparkSession.builder.appName(\"PySparkParkinsonJob\").getOrCreate()\n",
        "\n",
        "#Создаём Spark сессию"
      ]
    },
    {
      "cell_type": "code",
      "execution_count": 4,
      "metadata": {
        "id": "BlfwVjSsWpps",
        "outputId": "e1ca9aa9-e5b2-43fa-9d15-638768692b47",
        "colab": {
          "base_uri": "https://localhost:8080/",
          "height": 219
        }
      },
      "outputs": [
        {
          "output_type": "execute_result",
          "data": {
            "text/plain": [
              "<pyspark.sql.session.SparkSession at 0x792b301a0e50>"
            ],
            "text/html": [
              "\n",
              "            <div>\n",
              "                <p><b>SparkSession - in-memory</b></p>\n",
              "                \n",
              "        <div>\n",
              "            <p><b>SparkContext</b></p>\n",
              "\n",
              "            <p><a href=\"http://4f7a5868965b:4040\">Spark UI</a></p>\n",
              "\n",
              "            <dl>\n",
              "              <dt>Version</dt>\n",
              "                <dd><code>v3.5.1</code></dd>\n",
              "              <dt>Master</dt>\n",
              "                <dd><code>local[*]</code></dd>\n",
              "              <dt>AppName</dt>\n",
              "                <dd><code>PySparkParkinsonJob</code></dd>\n",
              "            </dl>\n",
              "        </div>\n",
              "        \n",
              "            </div>\n",
              "        "
            ]
          },
          "metadata": {},
          "execution_count": 4
        }
      ],
      "source": [
        "spark"
      ]
    },
    {
      "cell_type": "code",
      "execution_count": 186,
      "metadata": {
        "id": "KFVvaBVzWppt"
      },
      "outputs": [],
      "source": [
        "winequality_red_df = spark.read.csv('winequality-red.csv', header=True, inferSchema=True)\n",
        "\n",
        "\n",
        "# Разделение колонки на отдельные столбцы\n",
        "split_cols = winequality_red_df['\"fixed acidity\";\"volatile acidity\";\"citric acid\";\"residual sugar\";\"chlorides\";\"free sulfur dioxide\";\"total sulfur dioxide\";\"density\";\"pH\";\"sulphates\";\"alcohol\";\"quality\"']\n",
        "\n",
        "split_cols = split(split_cols, ';')\n",
        "\n",
        "# Добавление новых столбцов к DataFrame\n",
        "winequality_red_df = winequality_red_df.withColumn('fixed_acidity', split_cols.getItem(0))\n",
        "winequality_red_df = winequality_red_df.withColumn('volatile_acidity', split_cols.getItem(1))\n",
        "winequality_red_df = winequality_red_df.withColumn('citric_acid', split_cols.getItem(2))\n",
        "winequality_red_df = winequality_red_df.withColumn('residual_sugar', split_cols.getItem(3))\n",
        "winequality_red_df = winequality_red_df.withColumn('chlorides', split_cols.getItem(4))\n",
        "winequality_red_df = winequality_red_df.withColumn('free_sulfur_dioxide', split_cols.getItem(5))\n",
        "winequality_red_df = winequality_red_df.withColumn('total_sulfur_dioxide', split_cols.getItem(6))\n",
        "winequality_red_df = winequality_red_df.withColumn('density', split_cols.getItem(7))\n",
        "winequality_red_df = winequality_red_df.withColumn('pH', split_cols.getItem(8))\n",
        "winequality_red_df = winequality_red_df.withColumn('sulphates', split_cols.getItem(9))\n",
        "winequality_red_df = winequality_red_df.withColumn('alcohol', split_cols.getItem(10))\n",
        "winequality_red_df = winequality_red_df.withColumn('quality', split_cols.getItem(11))\n",
        "\n",
        "# Удаление исходной колонки\n",
        "winequality_red_df = winequality_red_df.drop('\"fixed acidity\";\"volatile acidity\";\"citric acid\";\"residual sugar\";\"chlorides\";\"free sulfur dioxide\";\"total sulfur dioxide\";\"density\";\"pH\";\"sulphates\";\"alcohol\";\"quality\"')\n",
        "\n",
        "for column_name in winequality_red_df.columns:\n",
        "    winequality_red_df = winequality_red_df.withColumn(column_name, col(column_name).cast('double'))"
      ]
    },
    {
      "cell_type": "code",
      "execution_count": 187,
      "metadata": {
        "id": "kXPFJ9DCWppu",
        "outputId": "baa0f3eb-f3b5-4971-a00b-0dca9013bea7",
        "colab": {
          "base_uri": "https://localhost:8080/"
        }
      },
      "outputs": [
        {
          "output_type": "stream",
          "name": "stdout",
          "text": [
            "+-------------+----------------+-----------+--------------+---------+-------------------+--------------------+-------+----+---------+-------+-------+\n",
            "|fixed_acidity|volatile_acidity|citric_acid|residual_sugar|chlorides|free_sulfur_dioxide|total_sulfur_dioxide|density|  pH|sulphates|alcohol|quality|\n",
            "+-------------+----------------+-----------+--------------+---------+-------------------+--------------------+-------+----+---------+-------+-------+\n",
            "|          7.4|             0.7|        0.0|           1.9|    0.076|               11.0|                34.0| 0.9978|3.51|     0.56|    9.4|    5.0|\n",
            "|          7.8|            0.88|        0.0|           2.6|    0.098|               25.0|                67.0| 0.9968| 3.2|     0.68|    9.8|    5.0|\n",
            "|          7.8|            0.76|       0.04|           2.3|    0.092|               15.0|                54.0|  0.997|3.26|     0.65|    9.8|    5.0|\n",
            "|         11.2|            0.28|       0.56|           1.9|    0.075|               17.0|                60.0|  0.998|3.16|     0.58|    9.8|    6.0|\n",
            "|          7.4|             0.7|        0.0|           1.9|    0.076|               11.0|                34.0| 0.9978|3.51|     0.56|    9.4|    5.0|\n",
            "|          7.4|            0.66|        0.0|           1.8|    0.075|               13.0|                40.0| 0.9978|3.51|     0.56|    9.4|    5.0|\n",
            "|          7.9|             0.6|       0.06|           1.6|    0.069|               15.0|                59.0| 0.9964| 3.3|     0.46|    9.4|    5.0|\n",
            "|          7.3|            0.65|        0.0|           1.2|    0.065|               15.0|                21.0| 0.9946|3.39|     0.47|   10.0|    7.0|\n",
            "|          7.8|            0.58|       0.02|           2.0|    0.073|                9.0|                18.0| 0.9968|3.36|     0.57|    9.5|    7.0|\n",
            "|          7.5|             0.5|       0.36|           6.1|    0.071|               17.0|               102.0| 0.9978|3.35|      0.8|   10.5|    5.0|\n",
            "|          6.7|            0.58|       0.08|           1.8|    0.097|               15.0|                65.0| 0.9959|3.28|     0.54|    9.2|    5.0|\n",
            "|          7.5|             0.5|       0.36|           6.1|    0.071|               17.0|               102.0| 0.9978|3.35|      0.8|   10.5|    5.0|\n",
            "|          5.6|           0.615|        0.0|           1.6|    0.089|               16.0|                59.0| 0.9943|3.58|     0.52|    9.9|    5.0|\n",
            "|          7.8|            0.61|       0.29|           1.6|    0.114|                9.0|                29.0| 0.9974|3.26|     1.56|    9.1|    5.0|\n",
            "|          8.9|            0.62|       0.18|           3.8|    0.176|               52.0|               145.0| 0.9986|3.16|     0.88|    9.2|    5.0|\n",
            "|          8.9|            0.62|       0.19|           3.9|     0.17|               51.0|               148.0| 0.9986|3.17|     0.93|    9.2|    5.0|\n",
            "|          8.5|            0.28|       0.56|           1.8|    0.092|               35.0|               103.0| 0.9969| 3.3|     0.75|   10.5|    7.0|\n",
            "|          8.1|            0.56|       0.28|           1.7|    0.368|               16.0|                56.0| 0.9968|3.11|     1.28|    9.3|    5.0|\n",
            "|          7.4|            0.59|       0.08|           4.4|    0.086|                6.0|                29.0| 0.9974|3.38|      0.5|    9.0|    4.0|\n",
            "|          7.9|            0.32|       0.51|           1.8|    0.341|               17.0|                56.0| 0.9969|3.04|     1.08|    9.2|    6.0|\n",
            "+-------------+----------------+-----------+--------------+---------+-------------------+--------------------+-------+----+---------+-------+-------+\n",
            "only showing top 20 rows\n",
            "\n"
          ]
        }
      ],
      "source": [
        "winequality_red_df.show(20)\n",
        "\n"
      ]
    },
    {
      "cell_type": "code",
      "execution_count": 37,
      "metadata": {
        "id": "DsnviqkqWppu"
      },
      "outputs": [],
      "source": [
        "# Поработаем с категориальными признаками.\n",
        "\n",
        "#Функция StringIndexer индексирует (энкодит) строки\n",
        "#Концепция, лежащая в основе индексирования строк, очень интуитивно понятна.\n",
        "#Мы просто заменяем каждую категорию номером.\n",
        "\n",
        "# sex_index = StringIndexer(inputCol=\"Genre\", outputCol=\"Genre_index\")  #StringIndexer - это Estimator, который нам формирует Transformer для преобразования данных\n",
        "# embarked_index = StringIndexer(inputCol='Embarked', outputCol=\"Embarked_index\")"
      ]
    },
    {
      "cell_type": "code",
      "execution_count": 38,
      "metadata": {
        "id": "7AEBrRe-Wppv"
      },
      "outputs": [],
      "source": [
        "# теперь применим новые столбцы к нашему датафрейму. Сначала обращаемся ним и выполняем операцию fit на нашем датафрейме.\n",
        "#После чего мы получим функцию трансформер и сможем вызвать ф-ию transform для того, чтобы выполнить преобразование наших данных\n",
        "\n",
        "# mall_customers_df = sex_index.fit(mall_customers_df).transform(mall_customers_df)"
      ]
    },
    {
      "cell_type": "code",
      "execution_count": null,
      "metadata": {
        "id": "BTy3mLzRWppw"
      },
      "outputs": [],
      "source": []
    },
    {
      "cell_type": "code",
      "execution_count": 202,
      "metadata": {
        "id": "NpPWgq2RWppw"
      },
      "outputs": [],
      "source": [
        "# Сделайте преобразование для embarked_index\n",
        "# titanic_df = embarked_index.fit(titanic_df).transform(titanic_df)\n",
        "winequality_red_df = winequality_red_df.withColumn(\"target\", when(winequality_red_df[\"quality\"] >= 6, 1).otherwise(0))"
      ]
    },
    {
      "cell_type": "code",
      "execution_count": 203,
      "metadata": {
        "id": "8i4vhT28Wppx",
        "outputId": "94123b3b-72bd-40a6-c17e-b6c5d69f01ec",
        "colab": {
          "base_uri": "https://localhost:8080/"
        }
      },
      "outputs": [
        {
          "output_type": "stream",
          "name": "stdout",
          "text": [
            "+-------------+----------------+-----------+--------------+---------+-------------------+--------------------+-------+----+---------+-------+-------+------+\n",
            "|fixed_acidity|volatile_acidity|citric_acid|residual_sugar|chlorides|free_sulfur_dioxide|total_sulfur_dioxide|density|  pH|sulphates|alcohol|quality|target|\n",
            "+-------------+----------------+-----------+--------------+---------+-------------------+--------------------+-------+----+---------+-------+-------+------+\n",
            "|          7.4|             0.7|        0.0|           1.9|    0.076|               11.0|                34.0| 0.9978|3.51|     0.56|    9.4|    5.0|     0|\n",
            "|          7.8|            0.88|        0.0|           2.6|    0.098|               25.0|                67.0| 0.9968| 3.2|     0.68|    9.8|    5.0|     0|\n",
            "|          7.8|            0.76|       0.04|           2.3|    0.092|               15.0|                54.0|  0.997|3.26|     0.65|    9.8|    5.0|     0|\n",
            "|         11.2|            0.28|       0.56|           1.9|    0.075|               17.0|                60.0|  0.998|3.16|     0.58|    9.8|    6.0|     1|\n",
            "|          7.4|             0.7|        0.0|           1.9|    0.076|               11.0|                34.0| 0.9978|3.51|     0.56|    9.4|    5.0|     0|\n",
            "|          7.4|            0.66|        0.0|           1.8|    0.075|               13.0|                40.0| 0.9978|3.51|     0.56|    9.4|    5.0|     0|\n",
            "|          7.9|             0.6|       0.06|           1.6|    0.069|               15.0|                59.0| 0.9964| 3.3|     0.46|    9.4|    5.0|     0|\n",
            "|          7.3|            0.65|        0.0|           1.2|    0.065|               15.0|                21.0| 0.9946|3.39|     0.47|   10.0|    7.0|     1|\n",
            "|          7.8|            0.58|       0.02|           2.0|    0.073|                9.0|                18.0| 0.9968|3.36|     0.57|    9.5|    7.0|     1|\n",
            "|          7.5|             0.5|       0.36|           6.1|    0.071|               17.0|               102.0| 0.9978|3.35|      0.8|   10.5|    5.0|     0|\n",
            "|          6.7|            0.58|       0.08|           1.8|    0.097|               15.0|                65.0| 0.9959|3.28|     0.54|    9.2|    5.0|     0|\n",
            "|          7.5|             0.5|       0.36|           6.1|    0.071|               17.0|               102.0| 0.9978|3.35|      0.8|   10.5|    5.0|     0|\n",
            "|          5.6|           0.615|        0.0|           1.6|    0.089|               16.0|                59.0| 0.9943|3.58|     0.52|    9.9|    5.0|     0|\n",
            "|          7.8|            0.61|       0.29|           1.6|    0.114|                9.0|                29.0| 0.9974|3.26|     1.56|    9.1|    5.0|     0|\n",
            "|          8.9|            0.62|       0.18|           3.8|    0.176|               52.0|               145.0| 0.9986|3.16|     0.88|    9.2|    5.0|     0|\n",
            "|          8.9|            0.62|       0.19|           3.9|     0.17|               51.0|               148.0| 0.9986|3.17|     0.93|    9.2|    5.0|     0|\n",
            "|          8.5|            0.28|       0.56|           1.8|    0.092|               35.0|               103.0| 0.9969| 3.3|     0.75|   10.5|    7.0|     1|\n",
            "|          8.1|            0.56|       0.28|           1.7|    0.368|               16.0|                56.0| 0.9968|3.11|     1.28|    9.3|    5.0|     0|\n",
            "|          7.4|            0.59|       0.08|           4.4|    0.086|                6.0|                29.0| 0.9974|3.38|      0.5|    9.0|    4.0|     0|\n",
            "|          7.9|            0.32|       0.51|           1.8|    0.341|               17.0|                56.0| 0.9969|3.04|     1.08|    9.2|    6.0|     1|\n",
            "+-------------+----------------+-----------+--------------+---------+-------------------+--------------------+-------+----+---------+-------+-------+------+\n",
            "only showing top 20 rows\n",
            "\n"
          ]
        }
      ],
      "source": [
        "winequality_red_df.show()"
      ]
    },
    {
      "cell_type": "code",
      "execution_count": 204,
      "metadata": {
        "id": "Fd40FCWpWppx"
      },
      "outputs": [],
      "source": [
        "# Наш dataframe готов к тому, чтобы применить к нему модель. Но мы хотим сначала выполнить векторизацию, чтобы данные можно было применять в моделе.\n",
        "# Формируем список признаков, которые мы будем использовать, как фичи.\n",
        "features = [col for col in winequality_red_df.columns if col != 'quality' and col != \"target\"]\n"
      ]
    },
    {
      "cell_type": "code",
      "execution_count": 205,
      "metadata": {
        "id": "eUN58Y7VWppy"
      },
      "outputs": [],
      "source": [
        "feature = VectorAssembler(inputCols=features, outputCol=\"features\")\n",
        "#VectorAssembler объединяет заданный список столбцов в один векторный столбец.\n",
        "# Является, пожалуй, самым важным векторным преобразователем в PySpark,\n",
        "# поскольку модели машинного обучения требуют на вход векторы.\n",
        "\n",
        "# VectorAssembler - трансформер, соответственно, вызываем метод transform  и применяем его к нашему датафрейму.\n",
        "feature_vector= feature.transform(winequality_red_df)"
      ]
    },
    {
      "cell_type": "code",
      "execution_count": 262,
      "metadata": {
        "id": "NrffFCilWppy",
        "outputId": "52704a55-09b6-4e31-ef34-87ced515299e",
        "colab": {
          "base_uri": "https://localhost:8080/"
        }
      },
      "outputs": [
        {
          "output_type": "stream",
          "name": "stdout",
          "text": [
            "+-------------+----------------+-----------+--------------+---------+-------------------+--------------------+-------+----+---------+-------+-------+------+--------------------+\n",
            "|fixed_acidity|volatile_acidity|citric_acid|residual_sugar|chlorides|free_sulfur_dioxide|total_sulfur_dioxide|density|  pH|sulphates|alcohol|quality|target|            features|\n",
            "+-------------+----------------+-----------+--------------+---------+-------------------+--------------------+-------+----+---------+-------+-------+------+--------------------+\n",
            "|          7.4|             0.7|        0.0|           1.9|    0.076|               11.0|                34.0| 0.9978|3.51|     0.56|    9.4|    5.0|     0|[7.4,0.7,0.0,1.9,...|\n",
            "|          7.8|            0.88|        0.0|           2.6|    0.098|               25.0|                67.0| 0.9968| 3.2|     0.68|    9.8|    5.0|     0|[7.8,0.88,0.0,2.6...|\n",
            "|          7.8|            0.76|       0.04|           2.3|    0.092|               15.0|                54.0|  0.997|3.26|     0.65|    9.8|    5.0|     0|[7.8,0.76,0.04,2....|\n",
            "|         11.2|            0.28|       0.56|           1.9|    0.075|               17.0|                60.0|  0.998|3.16|     0.58|    9.8|    6.0|     1|[11.2,0.28,0.56,1...|\n",
            "|          7.4|             0.7|        0.0|           1.9|    0.076|               11.0|                34.0| 0.9978|3.51|     0.56|    9.4|    5.0|     0|[7.4,0.7,0.0,1.9,...|\n",
            "+-------------+----------------+-----------+--------------+---------+-------------------+--------------------+-------+----+---------+-------+-------+------+--------------------+\n",
            "only showing top 5 rows\n",
            "\n"
          ]
        }
      ],
      "source": [
        "feature_vector.show(5)"
      ]
    },
    {
      "cell_type": "code",
      "execution_count": 207,
      "metadata": {
        "id": "xCbGOldIWppz"
      },
      "outputs": [],
      "source": [
        "(training_data, test_data) = feature_vector.randomSplit([0.8, 0.2],seed = 42)\n",
        "#Формируем тренировочный и тестовый датасет. 80% данных в тренировочный, остальные - в тестовый. Seed - параметр случайности"
      ]
    },
    {
      "cell_type": "code",
      "execution_count": 182,
      "metadata": {
        "id": "Cw0SY5yoWppz",
        "outputId": "0ca81ba3-c448-4843-f4fc-c258ef8702af",
        "colab": {
          "base_uri": "https://localhost:8080/"
        }
      },
      "outputs": [
        {
          "output_type": "stream",
          "name": "stdout",
          "text": [
            "+-------------+----------------+-----------+--------------+---------+-------------------+--------------------+-------+----+---------+-------+-------+--------------------+\n",
            "|fixed_acidity|volatile_acidity|citric_acid|residual_sugar|chlorides|free_sulfur_dioxide|total_sulfur_dioxide|density|  pH|sulphates|alcohol|quality|            features|\n",
            "+-------------+----------------+-----------+--------------+---------+-------------------+--------------------+-------+----+---------+-------+-------+--------------------+\n",
            "|          3.8|            0.31|       0.02|          11.1|    0.036|               20.0|               114.0|0.99248|3.75|     0.44|   12.4|    6.0|[3.8,0.31,0.02,11...|\n",
            "|          3.9|           0.225|        0.4|           4.2|     0.03|               29.0|               118.0|  0.989|3.57|     0.36|   12.8|    8.0|[3.9,0.225,0.4,4....|\n",
            "|          4.2|           0.215|       0.23|           5.1|    0.041|               64.0|               157.0|0.99688|3.42|     0.44|    8.0|    3.0|[4.2,0.215,0.23,5...|\n",
            "|          4.4|            0.32|       0.39|           4.3|     0.03|               31.0|               127.0|0.98904|3.46|     0.36|   12.8|    8.0|[4.4,0.32,0.39,4....|\n",
            "|          4.4|            0.46|        0.1|           2.8|    0.024|               31.0|               111.0|0.98816|3.48|     0.34|   13.1|    6.0|[4.4,0.46,0.1,2.8...|\n",
            "+-------------+----------------+-----------+--------------+---------+-------------------+--------------------+-------+----+---------+-------+-------+--------------------+\n",
            "only showing top 5 rows\n",
            "\n"
          ]
        }
      ],
      "source": [
        "training_data.show(5)"
      ]
    },
    {
      "cell_type": "markdown",
      "metadata": {
        "id": "ADZ2UFiGWpp0"
      },
      "source": [
        "# ML models"
      ]
    },
    {
      "cell_type": "markdown",
      "metadata": {
        "tags": [],
        "id": "gaK7oR_wWpp0"
      },
      "source": [
        "# LogisticRegression"
      ]
    },
    {
      "cell_type": "code",
      "execution_count": 208,
      "metadata": {
        "id": "bQhjNNJrWpp0"
      },
      "outputs": [],
      "source": [
        "evaluator = MulticlassClassificationEvaluator(labelCol=\"target\", predictionCol=\"prediction\", metricName=\"accuracy\")\n",
        "\n",
        "#Сначала создаем объект evaluator. Указываем целевую колонку обучения модели - labelCol. далее указываем\n",
        "# имя колонки, где будет лежать предсказанное значение  - predictionCol. И указываем метрику для оценки качества модели."
      ]
    },
    {
      "cell_type": "code",
      "execution_count": 209,
      "metadata": {
        "id": "IxqKG_RYWpp1",
        "outputId": "9e04fd5c-d912-465e-87cf-89655d665ae3",
        "colab": {
          "base_uri": "https://localhost:8080/"
        }
      },
      "outputs": [
        {
          "output_type": "stream",
          "name": "stdout",
          "text": [
            "+----------+------+--------------------+\n",
            "|prediction|target|            features|\n",
            "+----------+------+--------------------+\n",
            "|       1.0|     1|[4.9,0.42,0.0,2.1...|\n",
            "|       1.0|     1|[5.0,0.74,0.0,1.2...|\n",
            "|       0.0|     0|[5.0,1.04,0.24,1....|\n",
            "|       0.0|     0|[5.2,0.32,0.25,1....|\n",
            "|       1.0|     1|[5.3,0.47,0.11,2....|\n",
            "|       1.0|     1|[5.4,0.42,0.27,2....|\n",
            "|       0.0|     0|[5.6,0.31,0.37,1....|\n",
            "|       1.0|     0|[5.6,0.605,0.05,2...|\n",
            "|       1.0|     1|[5.8,0.29,0.26,1....|\n",
            "|       1.0|     1|[5.8,0.61,0.11,1....|\n",
            "|       0.0|     0|[5.8,0.68,0.02,1....|\n",
            "|       0.0|     0|[5.9,0.19,0.21,1....|\n",
            "|       1.0|     1|[5.9,0.395,0.13,2...|\n",
            "|       1.0|     1|[5.9,0.61,0.08,2....|\n",
            "|       0.0|     0|[6.0,0.5,0.0,1.4,...|\n",
            "|       1.0|     1|[6.0,0.58,0.2,2.4...|\n",
            "|       1.0|     1|[6.1,0.4,0.16,1.8...|\n",
            "|       0.0|     0|[6.2,0.58,0.0,1.6...|\n",
            "|       1.0|     1|[6.3,0.51,0.13,2....|\n",
            "|       1.0|     0|[6.3,0.6,0.1,1.6,...|\n",
            "|       1.0|     1|[6.3,0.68,0.01,3....|\n",
            "|       1.0|     1|[6.3,0.76,0.0,2.9...|\n",
            "|       1.0|     1|[6.4,0.47,0.4,2.4...|\n",
            "|       0.0|     1|[6.4,0.56,0.15,1....|\n",
            "|       0.0|     0|[6.5,0.52,0.11,1....|\n",
            "|       0.0|     0|[6.5,0.88,0.03,5....|\n",
            "|       1.0|     1|[6.6,0.44,0.09,2....|\n",
            "|       0.0|     1|[6.6,0.5,0.04,2.1...|\n",
            "|       1.0|     1|[6.6,0.56,0.14,2....|\n",
            "|       0.0|     0|[6.6,0.695,0.0,2....|\n",
            "+----------+------+--------------------+\n",
            "only showing top 30 rows\n",
            "\n"
          ]
        }
      ],
      "source": [
        "from pyspark.ml.classification import LogisticRegression\n",
        "lr = LogisticRegression(labelCol=\"target\", featuresCol=\"features\") # labelCol=\"Survived\" - целевая фича,  featuresCol=\"features\" - фичи, которые\n",
        "#используются для предсказания занчения целевой колонки\n",
        "\n",
        "lrModel = lr.fit(training_data) # получаем обученную модель.\n",
        "\n",
        "lr_prediction = lrModel.transform(test_data) # применяем модель на данных, получаем предсказание\n",
        "lr_prediction.select(\"prediction\", \"target\", \"features\").show(30)"
      ]
    },
    {
      "cell_type": "code",
      "execution_count": 210,
      "metadata": {
        "id": "O_cPn1a3Wpp2",
        "outputId": "020b88ec-a306-449a-de6d-fb41f91582e1",
        "colab": {
          "base_uri": "https://localhost:8080/"
        }
      },
      "outputs": [
        {
          "output_type": "stream",
          "name": "stdout",
          "text": [
            "LogisticRegression [Accuracy] = 0.774545\n",
            "LogisticRegression [Error] = 0.225455 \n"
          ]
        }
      ],
      "source": [
        "# Применяем оценщик (evaluator), чтобы узнать точность модели.\n",
        "lr_accuracy = evaluator.evaluate(lr_prediction)\n",
        "print(\"LogisticRegression [Accuracy] = %g\"% (lr_accuracy))\n",
        "print(\"LogisticRegression [Error] = %g \" % (1.0 - lr_accuracy))"
      ]
    },
    {
      "cell_type": "markdown",
      "metadata": {
        "tags": [],
        "id": "-WVOeNlrWpp3"
      },
      "source": [
        "# DecisionTreeClassifier"
      ]
    },
    {
      "cell_type": "code",
      "execution_count": 212,
      "metadata": {
        "id": "c_4Z1jFuWpp3",
        "outputId": "bd46447b-b601-497d-d913-ff9c45bd6357",
        "colab": {
          "base_uri": "https://localhost:8080/"
        }
      },
      "outputs": [
        {
          "output_type": "stream",
          "name": "stdout",
          "text": [
            "+----------+------+--------------------+\n",
            "|prediction|target|            features|\n",
            "+----------+------+--------------------+\n",
            "|       1.0|     1|[4.9,0.42,0.0,2.1...|\n",
            "|       1.0|     1|[5.0,0.74,0.0,1.2...|\n",
            "|       1.0|     0|[5.0,1.04,0.24,1....|\n",
            "|       0.0|     0|[5.2,0.32,0.25,1....|\n",
            "|       1.0|     1|[5.3,0.47,0.11,2....|\n",
            "+----------+------+--------------------+\n",
            "only showing top 5 rows\n",
            "\n"
          ]
        }
      ],
      "source": [
        "from pyspark.ml.classification import DecisionTreeClassifier\n",
        "dt = DecisionTreeClassifier(labelCol=\"target\", featuresCol=\"features\")\n",
        "dt_model = dt.fit(training_data)\n",
        "dt_prediction = dt_model.transform(test_data)\n",
        "\n",
        "dt_prediction.select(\"prediction\", \"target\", \"features\").show(5)"
      ]
    },
    {
      "cell_type": "code",
      "execution_count": 213,
      "metadata": {
        "id": "WCbA7mb8Wpp4",
        "outputId": "d2aa6edd-d2ed-491c-c8bf-5dd10509fe32",
        "colab": {
          "base_uri": "https://localhost:8080/"
        }
      },
      "outputs": [
        {
          "output_type": "stream",
          "name": "stdout",
          "text": [
            "DecisionTreeClassifier [Accuracy] = 0.72\n",
            "DecisionTreeClassifier [Error] = 0.28 \n"
          ]
        }
      ],
      "source": [
        "dt_accuracy = evaluator.evaluate(dt_prediction)\n",
        "print(\"DecisionTreeClassifier [Accuracy] = %g\"% (dt_accuracy))\n",
        "print(\"DecisionTreeClassifier [Error] = %g \" % (1.0 - dt_accuracy))"
      ]
    },
    {
      "cell_type": "markdown",
      "metadata": {
        "tags": [],
        "id": "ob05g2G-Wpp4"
      },
      "source": [
        "# RandomForestClassifier"
      ]
    },
    {
      "cell_type": "markdown",
      "metadata": {
        "id": "fH2ME7YYWpp5"
      },
      "source": [
        "Реализуйте самостоятельно и оцените точность, как в примерах выше"
      ]
    },
    {
      "cell_type": "code",
      "execution_count": 216,
      "metadata": {
        "id": "e5mTDJG_Wpp5",
        "colab": {
          "base_uri": "https://localhost:8080/"
        },
        "outputId": "e3d22d85-5fcf-4e5f-bf7e-d405bf46d2d0"
      },
      "outputs": [
        {
          "output_type": "stream",
          "name": "stdout",
          "text": [
            "+----------+------+--------------------+\n",
            "|prediction|target|            features|\n",
            "+----------+------+--------------------+\n",
            "|       1.0|     1|[4.9,0.42,0.0,2.1...|\n",
            "|       1.0|     1|[5.0,0.74,0.0,1.2...|\n",
            "|       1.0|     0|[5.0,1.04,0.24,1....|\n",
            "|       0.0|     0|[5.2,0.32,0.25,1....|\n",
            "|       1.0|     1|[5.3,0.47,0.11,2....|\n",
            "+----------+------+--------------------+\n",
            "only showing top 5 rows\n",
            "\n"
          ]
        }
      ],
      "source": [
        "from pyspark.ml.classification import RandomForestClassifier\n",
        "\n",
        "rf = RandomForestClassifier(labelCol=\"target\", featuresCol=\"features\")\n",
        "rf_model = rf.fit(training_data)\n",
        "rf_prediction = rf_model.transform(test_data)\n",
        "\n",
        "rf_prediction.select(\"prediction\", \"target\", \"features\").show(5)"
      ]
    },
    {
      "cell_type": "code",
      "source": [
        "rf_accuracy = evaluator.evaluate(rf_prediction)\n",
        "print(\"DecisionTreeClassifier [Accuracy] = %g\"% (rf_accuracy))\n",
        "print(\"DecisionTreeClassifier [Error] = %g \" % (1.0 - rf_accuracy))"
      ],
      "metadata": {
        "colab": {
          "base_uri": "https://localhost:8080/"
        },
        "id": "mPkPhOaq1EAC",
        "outputId": "a15d1f13-5293-47fa-d32b-ed91908ac74b"
      },
      "execution_count": 217,
      "outputs": [
        {
          "output_type": "stream",
          "name": "stdout",
          "text": [
            "DecisionTreeClassifier [Accuracy] = 0.792727\n",
            "DecisionTreeClassifier [Error] = 0.207273 \n"
          ]
        }
      ]
    },
    {
      "cell_type": "markdown",
      "metadata": {
        "tags": [],
        "id": "OLslRtOOWpp5"
      },
      "source": [
        "# Gradient-boosted tree classifier"
      ]
    },
    {
      "cell_type": "markdown",
      "metadata": {
        "id": "AxCkpq1aWpp5"
      },
      "source": [
        "Реализуйте самостоятельно и оцените точность, как в примерах выше"
      ]
    },
    {
      "cell_type": "markdown",
      "metadata": {
        "tags": [],
        "id": "AC1j-bDYWpp6"
      },
      "source": [
        "# Save & Load Model"
      ]
    },
    {
      "cell_type": "code",
      "execution_count": null,
      "metadata": {
        "id": "bqWorkQWWpp6"
      },
      "outputs": [],
      "source": [
        "# обученную модель мы можем сохранять. Сохраним модель RandomForest.\n",
        "rf_model.write().overwrite().save('rf_model')"
      ]
    },
    {
      "cell_type": "code",
      "execution_count": null,
      "metadata": {
        "id": "nzgrGLIkWpp6",
        "outputId": "1aa7b892-e5ba-4cc3-cbfe-77cbedf58011",
        "colab": {
          "base_uri": "https://localhost:8080/",
          "height": 156
        }
      },
      "outputs": [
        {
          "output_type": "execute_result",
          "data": {
            "text/plain": [
              "pyspark.ml.classification.RandomForestClassificationModel"
            ],
            "text/html": [
              "<div style=\"max-width:800px; border: 1px solid var(--colab-border-color);\"><style>\n",
              "      pre.function-repr-contents {\n",
              "        overflow-x: auto;\n",
              "        padding: 8px 12px;\n",
              "        max-height: 500px;\n",
              "      }\n",
              "\n",
              "      pre.function-repr-contents.function-repr-contents-collapsed {\n",
              "        cursor: pointer;\n",
              "        max-height: 100px;\n",
              "      }\n",
              "    </style>\n",
              "    <pre style=\"white-space: initial; background:\n",
              "         var(--colab-secondary-surface-color); padding: 8px 12px;\n",
              "         border-bottom: 1px solid var(--colab-border-color);\"><b>pyspark.ml.classification.RandomForestClassificationModel</b><br/>def __init__(java_model: Optional[&#x27;JavaObject&#x27;]=None)</pre><pre class=\"function-repr-contents function-repr-contents-collapsed\" style=\"\"><a class=\"filepath\" style=\"display:none\" href=\"#\">/usr/local/lib/python3.10/dist-packages/pyspark/ml/classification.py</a>Model fitted by RandomForestClassifier.\n",
              "\n",
              ".. versionadded:: 1.4.0</pre>\n",
              "      <script>\n",
              "      if (google.colab.kernel.accessAllowed && google.colab.files && google.colab.files.view) {\n",
              "        for (const element of document.querySelectorAll('.filepath')) {\n",
              "          element.style.display = 'block'\n",
              "          element.onclick = (event) => {\n",
              "            event.preventDefault();\n",
              "            event.stopPropagation();\n",
              "            google.colab.files.view(element.textContent, 2250);\n",
              "          };\n",
              "        }\n",
              "      }\n",
              "      for (const element of document.querySelectorAll('.function-repr-contents')) {\n",
              "        element.onclick = (event) => {\n",
              "          event.preventDefault();\n",
              "          event.stopPropagation();\n",
              "          element.classList.toggle('function-repr-contents-collapsed');\n",
              "        };\n",
              "      }\n",
              "      </script>\n",
              "      </div>"
            ]
          },
          "metadata": {},
          "execution_count": 27
        }
      ],
      "source": [
        "# Теперь модель загрузим. Для этого сначала модключим нужный класс\n",
        "from pyspark.ml.classification import RandomForestClassificationModel\n",
        "type(RandomForestClassificationModel.load('rf_model'))"
      ]
    },
    {
      "cell_type": "markdown",
      "metadata": {
        "tags": [],
        "id": "ZD7hwefpWpp7"
      },
      "source": [
        "# Pipeline"
      ]
    },
    {
      "cell_type": "code",
      "execution_count": 285,
      "metadata": {
        "id": "99fbFd8MWpp7"
      },
      "outputs": [],
      "source": [
        "from pyspark.ml.pipeline import PipelineModel\n",
        "\n",
        "# pipeline упрощает процесс внедрения ваших моделей в нужное окружение.\n",
        "\n",
        "# Перед тем, как модель обучить, мы уже выполнили какие-то преобразования данных.\n",
        "# Когда мы модель внедряем, нам нужно внедрять и все преобразования над данными.\n",
        "# Соответственно, появляется место для ошибок (человеческий фактор). Какую-то предобработку могут забыть сделать или сделать неправильно.\n",
        "# Пайплайны позволяют собрать вашу модель вместе с трансформациями."
      ]
    },
    {
      "cell_type": "code",
      "execution_count": 286,
      "metadata": {
        "id": "bdfnQzizWpp8"
      },
      "outputs": [],
      "source": [
        "redwine_df = spark.read.csv('winequality-red.csv', header=True, inferSchema=True)\n",
        "\n",
        "# Разделение колонки на отдельные столбцы\n",
        "split_cols = redwine_df['\"fixed acidity\";\"volatile acidity\";\"citric acid\";\"residual sugar\";\"chlorides\";\"free sulfur dioxide\";\"total sulfur dioxide\";\"density\";\"pH\";\"sulphates\";\"alcohol\";\"quality\"']\n",
        "\n",
        "split_cols = split(split_cols, ';')\n",
        "\n",
        "\n",
        "# Добавление новых столбцов к DataFrame\n",
        "new_columns = [\n",
        "    (\"fixed_acidity\", split_cols.getItem(0)),\n",
        "    (\"volatile_acidity\", split_cols.getItem(1)),\n",
        "    (\"citric_acid\", split_cols.getItem(2)),\n",
        "    (\"residual_sugar\", split_cols.getItem(3)),\n",
        "    (\"chlorides\", split_cols.getItem(4)),\n",
        "    (\"free_sulfur_dioxide\", split_cols.getItem(5)),\n",
        "    (\"total_sulfur_dioxide\", split_cols.getItem(6)),\n",
        "    (\"density\", split_cols.getItem(7)),\n",
        "    (\"pH\", split_cols.getItem(8)),\n",
        "    (\"sulphates\", split_cols.getItem(9)),\n",
        "    (\"alcohol\", split_cols.getItem(10)),\n",
        "    (\"quality\", split_cols.getItem(11))\n",
        "]\n",
        "\n",
        "# Добавление новых столбцов к DataFrame\n",
        "for column_name, column_expr in new_columns:\n",
        "    redwine_df = redwine_df.withColumn(column_name, column_expr)\n",
        "# Удаление исходной колонки\n",
        "redwine_df = redwine_df.drop('\"fixed acidity\";\"volatile acidity\";\"citric acid\";\"residual sugar\";\"chlorides\";\"free sulfur dioxide\";\"total sulfur dioxide\";\"density\";\"pH\";\"sulphates\";\"alcohol\";\"quality\"')\n",
        "for column_name in redwine_df.columns:\n",
        "    redwine_df = redwine_df.withColumn(column_name, col(column_name).cast('double'))"
      ]
    },
    {
      "cell_type": "code",
      "execution_count": 287,
      "metadata": {
        "id": "ms7u4fAQWpp8",
        "outputId": "692e0088-b3cc-4df9-fb4a-2d1fefb8d1e8",
        "colab": {
          "base_uri": "https://localhost:8080/"
        }
      },
      "outputs": [
        {
          "output_type": "stream",
          "name": "stdout",
          "text": [
            "+-------------+----------------+-----------+--------------+---------+-------------------+--------------------+-------+----+---------+-------+-------+\n",
            "|fixed_acidity|volatile_acidity|citric_acid|residual_sugar|chlorides|free_sulfur_dioxide|total_sulfur_dioxide|density|  pH|sulphates|alcohol|quality|\n",
            "+-------------+----------------+-----------+--------------+---------+-------------------+--------------------+-------+----+---------+-------+-------+\n",
            "|          7.4|             0.7|        0.0|           1.9|    0.076|               11.0|                34.0| 0.9978|3.51|     0.56|    9.4|    5.0|\n",
            "|          7.8|            0.88|        0.0|           2.6|    0.098|               25.0|                67.0| 0.9968| 3.2|     0.68|    9.8|    5.0|\n",
            "|          7.8|            0.76|       0.04|           2.3|    0.092|               15.0|                54.0|  0.997|3.26|     0.65|    9.8|    5.0|\n",
            "|         11.2|            0.28|       0.56|           1.9|    0.075|               17.0|                60.0|  0.998|3.16|     0.58|    9.8|    6.0|\n",
            "|          7.4|             0.7|        0.0|           1.9|    0.076|               11.0|                34.0| 0.9978|3.51|     0.56|    9.4|    5.0|\n",
            "|          7.4|            0.66|        0.0|           1.8|    0.075|               13.0|                40.0| 0.9978|3.51|     0.56|    9.4|    5.0|\n",
            "|          7.9|             0.6|       0.06|           1.6|    0.069|               15.0|                59.0| 0.9964| 3.3|     0.46|    9.4|    5.0|\n",
            "|          7.3|            0.65|        0.0|           1.2|    0.065|               15.0|                21.0| 0.9946|3.39|     0.47|   10.0|    7.0|\n",
            "|          7.8|            0.58|       0.02|           2.0|    0.073|                9.0|                18.0| 0.9968|3.36|     0.57|    9.5|    7.0|\n",
            "|          7.5|             0.5|       0.36|           6.1|    0.071|               17.0|               102.0| 0.9978|3.35|      0.8|   10.5|    5.0|\n",
            "|          6.7|            0.58|       0.08|           1.8|    0.097|               15.0|                65.0| 0.9959|3.28|     0.54|    9.2|    5.0|\n",
            "|          7.5|             0.5|       0.36|           6.1|    0.071|               17.0|               102.0| 0.9978|3.35|      0.8|   10.5|    5.0|\n",
            "|          5.6|           0.615|        0.0|           1.6|    0.089|               16.0|                59.0| 0.9943|3.58|     0.52|    9.9|    5.0|\n",
            "|          7.8|            0.61|       0.29|           1.6|    0.114|                9.0|                29.0| 0.9974|3.26|     1.56|    9.1|    5.0|\n",
            "|          8.9|            0.62|       0.18|           3.8|    0.176|               52.0|               145.0| 0.9986|3.16|     0.88|    9.2|    5.0|\n",
            "|          8.9|            0.62|       0.19|           3.9|     0.17|               51.0|               148.0| 0.9986|3.17|     0.93|    9.2|    5.0|\n",
            "|          8.5|            0.28|       0.56|           1.8|    0.092|               35.0|               103.0| 0.9969| 3.3|     0.75|   10.5|    7.0|\n",
            "|          8.1|            0.56|       0.28|           1.7|    0.368|               16.0|                56.0| 0.9968|3.11|     1.28|    9.3|    5.0|\n",
            "|          7.4|            0.59|       0.08|           4.4|    0.086|                6.0|                29.0| 0.9974|3.38|      0.5|    9.0|    4.0|\n",
            "|          7.9|            0.32|       0.51|           1.8|    0.341|               17.0|                56.0| 0.9969|3.04|     1.08|    9.2|    6.0|\n",
            "+-------------+----------------+-----------+--------------+---------+-------------------+--------------------+-------+----+---------+-------+-------+\n",
            "only showing top 20 rows\n",
            "\n"
          ]
        }
      ],
      "source": [
        "redwine_df.show()"
      ]
    },
    {
      "cell_type": "code",
      "execution_count": 328,
      "metadata": {
        "id": "LeaP_qpsWpqS"
      },
      "outputs": [],
      "source": [
        "redwine_df = redwine_df.withColumn(\"target\", when(redwine_df[\"quality\"] >= 6, 1).otherwise(0))"
      ]
    },
    {
      "cell_type": "code",
      "execution_count": 329,
      "metadata": {
        "id": "a4ujGKheWpqT"
      },
      "outputs": [],
      "source": [
        "features = [col for col in redwine_df.columns if col != 'quality' and col != \"target\"]\n",
        "feature = VectorAssembler(inputCols=features, outputCol=\"features\")\n",
        "\n",
        "\n"
      ]
    },
    {
      "cell_type": "code",
      "execution_count": 330,
      "metadata": {
        "id": "0BHKS7E9WpqT",
        "outputId": "dcae79bf-1f31-4ff9-f144-91ccc7737213",
        "colab": {
          "base_uri": "https://localhost:8080/"
        }
      },
      "outputs": [
        {
          "output_type": "stream",
          "name": "stdout",
          "text": [
            "+-------------+----------------+-----------+--------------+---------+-------------------+--------------------+-------+----+---------+-------+-------+------+--------------------+\n",
            "|fixed_acidity|volatile_acidity|citric_acid|residual_sugar|chlorides|free_sulfur_dioxide|total_sulfur_dioxide|density|  pH|sulphates|alcohol|quality|target|            features|\n",
            "+-------------+----------------+-----------+--------------+---------+-------------------+--------------------+-------+----+---------+-------+-------+------+--------------------+\n",
            "|          7.4|             0.7|        0.0|           1.9|    0.076|               11.0|                34.0| 0.9978|3.51|     0.56|    9.4|    5.0|     0|[7.4,0.7,0.0,1.9,...|\n",
            "|          7.8|            0.88|        0.0|           2.6|    0.098|               25.0|                67.0| 0.9968| 3.2|     0.68|    9.8|    5.0|     0|[7.8,0.88,0.0,2.6...|\n",
            "|          7.8|            0.76|       0.04|           2.3|    0.092|               15.0|                54.0|  0.997|3.26|     0.65|    9.8|    5.0|     0|[7.8,0.76,0.04,2....|\n",
            "|         11.2|            0.28|       0.56|           1.9|    0.075|               17.0|                60.0|  0.998|3.16|     0.58|    9.8|    6.0|     1|[11.2,0.28,0.56,1...|\n",
            "|          7.4|             0.7|        0.0|           1.9|    0.076|               11.0|                34.0| 0.9978|3.51|     0.56|    9.4|    5.0|     0|[7.4,0.7,0.0,1.9,...|\n",
            "|          7.4|            0.66|        0.0|           1.8|    0.075|               13.0|                40.0| 0.9978|3.51|     0.56|    9.4|    5.0|     0|[7.4,0.66,0.0,1.8...|\n",
            "|          7.9|             0.6|       0.06|           1.6|    0.069|               15.0|                59.0| 0.9964| 3.3|     0.46|    9.4|    5.0|     0|[7.9,0.6,0.06,1.6...|\n",
            "|          7.3|            0.65|        0.0|           1.2|    0.065|               15.0|                21.0| 0.9946|3.39|     0.47|   10.0|    7.0|     1|[7.3,0.65,0.0,1.2...|\n",
            "|          7.8|            0.58|       0.02|           2.0|    0.073|                9.0|                18.0| 0.9968|3.36|     0.57|    9.5|    7.0|     1|[7.8,0.58,0.02,2....|\n",
            "|          7.5|             0.5|       0.36|           6.1|    0.071|               17.0|               102.0| 0.9978|3.35|      0.8|   10.5|    5.0|     0|[7.5,0.5,0.36,6.1...|\n",
            "+-------------+----------------+-----------+--------------+---------+-------------------+--------------------+-------+----+---------+-------+-------+------+--------------------+\n",
            "only showing top 10 rows\n",
            "\n"
          ]
        }
      ],
      "source": [
        "rf_classifier = RandomForestClassifier(labelCol=\"target\", featuresCol=\"features\")\n",
        "feature_vector= feature.transform(redwine_df)\n",
        "feature_vector.show(10)"
      ]
    },
    {
      "cell_type": "code",
      "execution_count": 331,
      "metadata": {
        "id": "UCb0OoOKWpqU"
      },
      "outputs": [],
      "source": [
        "train, test = redwine_df.randomSplit([0.8, 0.2])\n",
        "\n",
        "pipeline = Pipeline(stages=[feature, rf_classifier])\n",
        "# Определились с моделью созддаём Pipeline. Указываем массив из трансформаций, которые необходимо выполнить.\n",
        "# Собранный Pipeline является Estimator'ом, вызываем метод fit, из датафрейма (начального) в одно действие получается готовая модель."
      ]
    },
    {
      "cell_type": "code",
      "execution_count": 332,
      "metadata": {
        "id": "EnyRWQJHWpqU"
      },
      "outputs": [],
      "source": [
        "p_model = pipeline.fit(train)"
      ]
    },
    {
      "cell_type": "code",
      "execution_count": 333,
      "metadata": {
        "id": "trAzeLfrWpqU",
        "outputId": "e63a21c8-3aa3-402b-d819-8b53fdfeae7b",
        "colab": {
          "base_uri": "https://localhost:8080/",
          "height": 156
        }
      },
      "outputs": [
        {
          "output_type": "execute_result",
          "data": {
            "text/plain": [
              "pyspark.ml.pipeline.PipelineModel"
            ],
            "text/html": [
              "<div style=\"max-width:800px; border: 1px solid var(--colab-border-color);\"><style>\n",
              "      pre.function-repr-contents {\n",
              "        overflow-x: auto;\n",
              "        padding: 8px 12px;\n",
              "        max-height: 500px;\n",
              "      }\n",
              "\n",
              "      pre.function-repr-contents.function-repr-contents-collapsed {\n",
              "        cursor: pointer;\n",
              "        max-height: 100px;\n",
              "      }\n",
              "    </style>\n",
              "    <pre style=\"white-space: initial; background:\n",
              "         var(--colab-secondary-surface-color); padding: 8px 12px;\n",
              "         border-bottom: 1px solid var(--colab-border-color);\"><b>pyspark.ml.pipeline.PipelineModel</b><br/>def __init__(stages: List[Transformer])</pre><pre class=\"function-repr-contents function-repr-contents-collapsed\" style=\"\"><a class=\"filepath\" style=\"display:none\" href=\"#\">/usr/local/lib/python3.10/dist-packages/pyspark/ml/pipeline.py</a>Represents a compiled pipeline with transformers and fitted models.\n",
              "\n",
              ".. versionadded:: 1.3.0</pre>\n",
              "      <script>\n",
              "      if (google.colab.kernel.accessAllowed && google.colab.files && google.colab.files.view) {\n",
              "        for (const element of document.querySelectorAll('.filepath')) {\n",
              "          element.style.display = 'block'\n",
              "          element.onclick = (event) => {\n",
              "            event.preventDefault();\n",
              "            event.stopPropagation();\n",
              "            google.colab.files.view(element.textContent, 290);\n",
              "          };\n",
              "        }\n",
              "      }\n",
              "      for (const element of document.querySelectorAll('.function-repr-contents')) {\n",
              "        element.onclick = (event) => {\n",
              "          event.preventDefault();\n",
              "          event.stopPropagation();\n",
              "          element.classList.toggle('function-repr-contents-collapsed');\n",
              "        };\n",
              "      }\n",
              "      </script>\n",
              "      </div>"
            ]
          },
          "metadata": {},
          "execution_count": 333
        }
      ],
      "source": [
        "type(p_model)"
      ]
    },
    {
      "cell_type": "code",
      "execution_count": 334,
      "metadata": {
        "id": "XQ3DQOD-WpqV"
      },
      "outputs": [],
      "source": [
        "p_model.write().overwrite().save('p_model')\n",
        "# сохраним модель с перезаписью."
      ]
    },
    {
      "cell_type": "code",
      "execution_count": 335,
      "metadata": {
        "id": "2ItP6vjsWpqV"
      },
      "outputs": [],
      "source": [
        "model = PipelineModel.load('p_model')\n",
        "# Загрузим модель."
      ]
    },
    {
      "cell_type": "code",
      "execution_count": 336,
      "metadata": {
        "id": "K3eMaROCWpqW"
      },
      "outputs": [],
      "source": [
        "prediction = p_model.transform(test)\n",
        "# применим модель, вызовем метод transrorm, применим его к выборке test"
      ]
    },
    {
      "cell_type": "code",
      "execution_count": 337,
      "metadata": {
        "id": "D7WVK69WWpqW",
        "outputId": "cd98918a-6101-4654-ad9e-514d6a688d50",
        "colab": {
          "base_uri": "https://localhost:8080/"
        }
      },
      "outputs": [
        {
          "output_type": "stream",
          "name": "stdout",
          "text": [
            "+-------------+----------------+-----------+--------------+---------+-------------------+--------------------+-------+----+---------+-------+-------+------+\n",
            "|fixed_acidity|volatile_acidity|citric_acid|residual_sugar|chlorides|free_sulfur_dioxide|total_sulfur_dioxide|density|  pH|sulphates|alcohol|quality|target|\n",
            "+-------------+----------------+-----------+--------------+---------+-------------------+--------------------+-------+----+---------+-------+-------+------+\n",
            "|          5.2|            0.34|        0.0|           1.8|     0.05|               27.0|                63.0| 0.9916|3.68|     0.79|   14.0|    6.0|     1|\n",
            "|          5.3|           0.715|       0.19|           1.5|    0.161|                7.0|                62.0|0.99395|3.62|     0.61|   11.0|    5.0|     0|\n",
            "|          5.6|            0.31|       0.37|           1.4|    0.074|               12.0|                96.0| 0.9954|3.32|     0.58|    9.2|    5.0|     0|\n",
            "|          5.6|            0.85|       0.05|           1.4|    0.045|               12.0|                88.0| 0.9924|3.56|     0.82|   12.9|    8.0|     1|\n",
            "|          5.9|            0.46|        0.0|           1.9|    0.077|               25.0|                44.0|0.99385| 3.5|     0.53|   11.2|    5.0|     0|\n",
            "+-------------+----------------+-----------+--------------+---------+-------------------+--------------------+-------+----+---------+-------+-------+------+\n",
            "only showing top 5 rows\n",
            "\n"
          ]
        }
      ],
      "source": [
        "test.show(5)"
      ]
    },
    {
      "cell_type": "code",
      "execution_count": 338,
      "metadata": {
        "id": "G3tWZ0CQWpqW",
        "outputId": "170132d7-42ad-40e5-cac0-c194a7d23955",
        "colab": {
          "base_uri": "https://localhost:8080/"
        }
      },
      "outputs": [
        {
          "output_type": "stream",
          "name": "stdout",
          "text": [
            "+-------------+----------------+-----------+--------------+---------+-------------------+--------------------+-------+----+---------+-------+\n",
            "|fixed_acidity|volatile_acidity|citric_acid|residual_sugar|chlorides|free_sulfur_dioxide|total_sulfur_dioxide|density|  pH|sulphates|alcohol|\n",
            "+-------------+----------------+-----------+--------------+---------+-------------------+--------------------+-------+----+---------+-------+\n",
            "|          5.2|            0.34|        0.0|           1.8|     0.05|               27.0|                63.0| 0.9916|3.68|     0.79|   14.0|\n",
            "|          5.3|           0.715|       0.19|           1.5|    0.161|                7.0|                62.0|0.99395|3.62|     0.61|   11.0|\n",
            "|          5.6|            0.31|       0.37|           1.4|    0.074|               12.0|                96.0| 0.9954|3.32|     0.58|    9.2|\n",
            "|          5.6|            0.85|       0.05|           1.4|    0.045|               12.0|                88.0| 0.9924|3.56|     0.82|   12.9|\n",
            "|          5.9|            0.46|        0.0|           1.9|    0.077|               25.0|                44.0|0.99385| 3.5|     0.53|   11.2|\n",
            "+-------------+----------------+-----------+--------------+---------+-------------------+--------------------+-------+----+---------+-------+\n",
            "only showing top 5 rows\n",
            "\n"
          ]
        }
      ],
      "source": [
        "prediction.select([col for col in redwine_df.columns if col != 'quality' and col != \"target\"]).show(5)"
      ]
    },
    {
      "cell_type": "code",
      "execution_count": 339,
      "metadata": {
        "id": "k-ffaIDzWpqX"
      },
      "outputs": [],
      "source": [
        "evaluator = MulticlassClassificationEvaluator(labelCol=\"target\", predictionCol=\"prediction\", metricName=\"accuracy\")"
      ]
    },
    {
      "cell_type": "code",
      "execution_count": 340,
      "metadata": {
        "id": "5YWNf0f7WpqX",
        "outputId": "053c46de-8b88-4bcb-c452-6013efcbf4d2",
        "colab": {
          "base_uri": "https://localhost:8080/"
        }
      },
      "outputs": [
        {
          "output_type": "stream",
          "name": "stdout",
          "text": [
            "Pipeline model [Accuracy] = 0.745283\n",
            "Pipeline model [Error] = 0.254717 \n"
          ]
        }
      ],
      "source": [
        "p_accuracy = evaluator.evaluate(prediction)\n",
        "print(\"Pipeline model [Accuracy] = %g\"% (p_accuracy))\n",
        "print(\"Pipeline model [Error] = %g \" % (1.0 - p_accuracy))"
      ]
    },
    {
      "cell_type": "markdown",
      "metadata": {
        "id": "QpjUJ0FLWpqY"
      },
      "source": [
        "Сделайте самостоятельно Pipeline для Градиентного Бустинга, проверьте точность на тестовой выборке."
      ]
    },
    {
      "cell_type": "code",
      "source": [
        "gb_classifier = GBTClassifier(labelCol=\"Survived\", featuresCol=\"features\")\n",
        "\n",
        "pipeline = Pipeline(stages=[indexer_sex, indexer_embarked, feature, gb_classifier])\n",
        "\n",
        "p_model = pipeline.fit(train)\n",
        "\n",
        "prediction = p_model.transform(test)\n",
        "\n",
        "p_accuracy = evaluator.evaluate(prediction)\n",
        "print(\"Pipeline model [Accuracy] = %g\"% (p_accuracy))\n",
        "print(\"Pipeline model [Error] = %g \" % (1.0 - p_accuracy))"
      ],
      "metadata": {
        "colab": {
          "base_uri": "https://localhost:8080/",
          "height": 211
        },
        "id": "Ji-ZvYqW1Xd3",
        "outputId": "b90d9c6b-43e6-4062-daab-41e3b196fa50"
      },
      "execution_count": 313,
      "outputs": [
        {
          "output_type": "error",
          "ename": "NameError",
          "evalue": "name 'indexer_sex' is not defined",
          "traceback": [
            "\u001b[0;31m---------------------------------------------------------------------------\u001b[0m",
            "\u001b[0;31mNameError\u001b[0m                                 Traceback (most recent call last)",
            "\u001b[0;32m<ipython-input-313-1963a5225aa7>\u001b[0m in \u001b[0;36m<cell line: 3>\u001b[0;34m()\u001b[0m\n\u001b[1;32m      1\u001b[0m \u001b[0mgb_classifier\u001b[0m \u001b[0;34m=\u001b[0m \u001b[0mGBTClassifier\u001b[0m\u001b[0;34m(\u001b[0m\u001b[0mlabelCol\u001b[0m\u001b[0;34m=\u001b[0m\u001b[0;34m\"Survived\"\u001b[0m\u001b[0;34m,\u001b[0m \u001b[0mfeaturesCol\u001b[0m\u001b[0;34m=\u001b[0m\u001b[0;34m\"features\"\u001b[0m\u001b[0;34m)\u001b[0m\u001b[0;34m\u001b[0m\u001b[0;34m\u001b[0m\u001b[0m\n\u001b[1;32m      2\u001b[0m \u001b[0;34m\u001b[0m\u001b[0m\n\u001b[0;32m----> 3\u001b[0;31m \u001b[0mpipeline\u001b[0m \u001b[0;34m=\u001b[0m \u001b[0mPipeline\u001b[0m\u001b[0;34m(\u001b[0m\u001b[0mstages\u001b[0m\u001b[0;34m=\u001b[0m\u001b[0;34m[\u001b[0m\u001b[0mindexer_sex\u001b[0m\u001b[0;34m,\u001b[0m \u001b[0mindexer_embarked\u001b[0m\u001b[0;34m,\u001b[0m \u001b[0mfeature\u001b[0m\u001b[0;34m,\u001b[0m \u001b[0mgb_classifier\u001b[0m\u001b[0;34m]\u001b[0m\u001b[0;34m)\u001b[0m\u001b[0;34m\u001b[0m\u001b[0;34m\u001b[0m\u001b[0m\n\u001b[0m\u001b[1;32m      4\u001b[0m \u001b[0;34m\u001b[0m\u001b[0m\n\u001b[1;32m      5\u001b[0m \u001b[0mp_model\u001b[0m \u001b[0;34m=\u001b[0m \u001b[0mpipeline\u001b[0m\u001b[0;34m.\u001b[0m\u001b[0mfit\u001b[0m\u001b[0;34m(\u001b[0m\u001b[0mtrain\u001b[0m\u001b[0;34m)\u001b[0m\u001b[0;34m\u001b[0m\u001b[0;34m\u001b[0m\u001b[0m\n",
            "\u001b[0;31mNameError\u001b[0m: name 'indexer_sex' is not defined"
          ]
        }
      ]
    }
  ],
  "metadata": {
    "kernelspec": {
      "display_name": "Python 3 (ipykernel)",
      "language": "python",
      "name": "python3"
    },
    "language_info": {
      "codemirror_mode": {
        "name": "ipython",
        "version": 3
      },
      "file_extension": ".py",
      "mimetype": "text/x-python",
      "name": "python",
      "nbconvert_exporter": "python",
      "pygments_lexer": "ipython3",
      "version": "3.8.10"
    },
    "colab": {
      "provenance": [],
      "include_colab_link": true
    }
  },
  "nbformat": 4,
  "nbformat_minor": 0
}