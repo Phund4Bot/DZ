{
  "cells": [
    {
      "cell_type": "markdown",
      "metadata": {
        "id": "view-in-github",
        "colab_type": "text"
      },
      "source": [
        "<a href=\"https://colab.research.google.com/github/Phund4Bot/DZ/blob/main/Lab1.ipynb\" target=\"_parent\"><img src=\"https://colab.research.google.com/assets/colab-badge.svg\" alt=\"Open In Colab\"/></a>"
      ]
    },
    {
      "cell_type": "markdown",
      "id": "fifteen-sailing",
      "metadata": {
        "id": "fifteen-sailing"
      },
      "source": [
        "# Лабораторная работа №1\n",
        "## Выполнил студент группы ГРУППА ФИО"
      ]
    },
    {
      "cell_type": "markdown",
      "id": "particular-syndicate",
      "metadata": {
        "id": "particular-syndicate"
      },
      "source": [
        "### Оглавление\n",
        "1. [Задание 1](#Задание-№1)\n",
        "2. [Задание 2](#Задание-№2)\n",
        "3. [Задание 3](#Задание-№3)\n",
        "4. [Вывод](#Вывод)"
      ]
    },
    {
      "cell_type": "markdown",
      "id": "arctic-stocks",
      "metadata": {
        "id": "arctic-stocks"
      },
      "source": [
        "### Задание №1\n",
        "<i> Вызвать функцию print() и передать туда строку Hello, World! </i>"
      ]
    },
    {
      "cell_type": "code",
      "execution_count": 3,
      "id": "caring-truck",
      "metadata": {
        "scrolled": true,
        "id": "caring-truck",
        "colab": {
          "base_uri": "https://localhost:8080/"
        },
        "outputId": "813b71dd-96b0-4f08-ce76-7e4d16fb0a82"
      },
      "outputs": [
        {
          "output_type": "stream",
          "name": "stdout",
          "text": [
            "Hello world\n"
          ]
        }
      ],
      "source": [
        "print('Hello world')"
      ]
    },
    {
      "cell_type": "markdown",
      "id": "maritime-conversation",
      "metadata": {
        "id": "maritime-conversation"
      },
      "source": [
        "### Задание №2\n",
        "Написать генератор случайных матриц(многомерных), который принимает\n",
        "опциональные параметры <b>m</b>, <b>n</b>, <b>min_limit</b>, <b>max_limit</b>, где <b>m</b> и <b>n</b> указывают размер\n",
        "матрицы, а <b>min_lim</b> и <b>max_lim</b> - минимальное и максимальное значение для\n",
        "генерируемого числа."
      ]
    },
    {
      "cell_type": "code",
      "execution_count": null,
      "id": "built-contact",
      "metadata": {
        "id": "built-contact"
      },
      "outputs": [],
      "source": []
    },
    {
      "cell_type": "code",
      "execution_count": 8,
      "id": "alert-charm",
      "metadata": {
        "id": "alert-charm",
        "outputId": "9ae05825-205f-40a2-d9ff-038b2f54c9f7",
        "colab": {
          "base_uri": "https://localhost:8080/"
        }
      },
      "outputs": [
        {
          "output_type": "stream",
          "name": "stdout",
          "text": [
            "2\n",
            "2\n",
            "3\n",
            "6\n",
            "[[4, 3], [4, 5]]\n"
          ]
        },
        {
          "output_type": "execute_result",
          "data": {
            "text/plain": [
              "('2', '2', '3', '6')"
            ]
          },
          "metadata": {},
          "execution_count": 8
        }
      ],
      "source": [
        "import random\n",
        "import time\n",
        "user_m = input()\n",
        "user_n = input()\n",
        "user_min_limit = input()\n",
        "user_max_limit = input()\n",
        "def generateMatrix(m, n, minlimit, maxlimit):\n",
        "  matrix = []\n",
        "  for i in range(int(m)):\n",
        "    matrix.append([])\n",
        "    for j in range(int(n)):\n",
        "      matrix[i].append(random.randint(int(minlimit), int(maxlimit)))\n",
        "\n",
        "  return matrix\n",
        "\n",
        "print(generateMatrix(user_m, user_n, user_min_limit, user_max_limit))"
      ]
    },
    {
      "cell_type": "markdown",
      "id": "catholic-roots",
      "metadata": {
        "id": "catholic-roots"
      },
      "source": [
        "### Задание №3\n",
        "Реализовать методы сортировки строк числовой матрицы в соответствии с\n",
        "заданием. Оценить время работы каждого алгоритма сортировки и сравнить его со\n",
        "временем стандартной функции сортировки. Испытания проводить на сгенерированных\n",
        "матрицах."
      ]
    },
    {
      "cell_type": "code",
      "execution_count": null,
      "id": "opposed-creature",
      "metadata": {
        "id": "opposed-creature"
      },
      "outputs": [],
      "source": [
        "import copy"
      ]
    },
    {
      "cell_type": "code",
      "execution_count": 11,
      "id": "cleared-anniversary",
      "metadata": {
        "id": "cleared-anniversary",
        "outputId": "4431970d-a7e9-4d98-a589-a46882be2c89",
        "colab": {
          "base_uri": "https://localhost:8080/"
        }
      },
      "outputs": [
        {
          "output_type": "stream",
          "name": "stdout",
          "text": [
            "Enter numbers: 2 4 3 5 3\n",
            "Sorted: [2, 3, 3, 4, 5]\n",
            "--- 5915 ms ---\n"
          ]
        }
      ],
      "source": [
        "# Сортировка выбором.\n",
        "# Берётся срез массива, в котором минимальный элемент переносят в самый левый угол,\n",
        "# после чего срез уменьшается и цикл повторяется.\n",
        "# Сложность: O(n^2)\n",
        "def selection_sort(arr):\n",
        "    for i in range(0, len(arr) - 1):\n",
        "        minel = i\n",
        "        for j in range(i + 1, len(arr)):\n",
        "            if arr[j] < arr[minel]:\n",
        "                minel = j\n",
        "        arr[i], arr[minel] = arr[minel], arr[i]\n",
        "\n",
        "\n",
        "start_time = time.time()\n",
        "\n",
        "arr = input('Enter numbers: ').split()\n",
        "arr = [int(x) for x in arr]\n",
        "selection_sort(arr)\n",
        "print('Sorted: ', end='')\n",
        "print(arr)\n",
        "\n",
        "print(\"--- {0} ms ---\".format(round((time.time() - start_time)*1000)))"
      ]
    },
    {
      "cell_type": "code",
      "execution_count": 13,
      "id": "roman-silly",
      "metadata": {
        "scrolled": true,
        "id": "roman-silly",
        "outputId": "1fd0ac65-bfcb-4c70-aad4-3711fad836f8",
        "colab": {
          "base_uri": "https://localhost:8080/"
        }
      },
      "outputs": [
        {
          "output_type": "stream",
          "name": "stdout",
          "text": [
            "Enter numbers: 3 2 4 3 5 4\n",
            "Sorted: [2, 3, 3, 4, 4, 5]\n",
            "--- 5499 ms ---\n"
          ]
        }
      ],
      "source": [
        "# Сортировка вставкой.\n",
        "# Сложность O(n^2)\n",
        "\n",
        "def insertion_sort(arr):\n",
        "    for i in range(1, len(arr)):\n",
        "        temp = arr[i]\n",
        "        j = i - 1\n",
        "        while (j >= 0 and temp < arr[j]):\n",
        "            arr[j + 1] = arr[j]\n",
        "            j = j - 1\n",
        "        arr[j + 1] = temp\n",
        "\n",
        "\n",
        "start_time = time.time()\n",
        "\n",
        "arr = input('Enter numbers: ').split()\n",
        "arr = [int(x) for x in arr]\n",
        "insertion_sort(arr)\n",
        "print('Sorted: ', end='')\n",
        "print(arr)\n",
        "\n",
        "\n",
        "print(\"--- {0} ms ---\".format(round((time.time() - start_time)*1000)))"
      ]
    },
    {
      "cell_type": "code",
      "execution_count": null,
      "id": "vital-implementation",
      "metadata": {
        "id": "vital-implementation",
        "outputId": "7b648bf5-37a5-4d47-926d-b799f7a23be2"
      },
      "outputs": [
        {
          "name": "stdout",
          "output_type": "stream",
          "text": [
            "--- 0 ms ---\n"
          ]
        }
      ],
      "source": [
        "# Сортировка обменом. || Сортировка пузырьком.\n",
        "# Сложность O(n^2)\n",
        "def bubble_sort(arr):\n",
        "    for i in range(len(arr) - 1, 0, -1):\n",
        "        b = True\n",
        "        for j in range(0, i):\n",
        "            if arr[j + 1] < arr[j]:\n",
        "                arr[j], arr[j + 1] = arr[j + 1], arr[j]\n",
        "                b = False\n",
        "        if b:\n",
        "            return\n",
        "\n",
        "start_time = time.time()\n",
        "\n",
        "arr = input('Enter numbers: ').split()\n",
        "arr = [int(x) for x in arr]\n",
        "bubble_sort(arr)\n",
        "print('Sorted: ', end='')\n",
        "print(arr)\n",
        "\n",
        "print(\"--- {0} ms ---\".format(round((time.time() - start_time)*1000)))"
      ]
    },
    {
      "cell_type": "code",
      "execution_count": 14,
      "id": "veterinary-glory",
      "metadata": {
        "id": "veterinary-glory",
        "outputId": "430d5a44-33c4-40a4-e997-62dd80d70937",
        "colab": {
          "base_uri": "https://localhost:8080/"
        }
      },
      "outputs": [
        {
          "output_type": "stream",
          "name": "stdout",
          "text": [
            "Enter numbers: 3 4 2 5 3  2 3\n",
            "Sorted: [2, 2, 3, 3, 3, 4, 5]\n",
            "--- 6203 ms ---\n"
          ]
        }
      ],
      "source": [
        "# Сортировка Шелла.\n",
        "# Сложность O(n^2)\n",
        "import math\n",
        "def shell_sort(arr):\n",
        "    n = len(arr)\n",
        "    k = int(math.log2(n))\n",
        "    interval = 2**k -1\n",
        "    while interval > 0:\n",
        "        for i in range(interval, n):\n",
        "            temp = arr[i]\n",
        "            j = i\n",
        "            while j >= interval and arr[j - interval] > temp:\n",
        "                arr[j] = arr[j - interval]\n",
        "                j -= interval\n",
        "            arr[j] = temp\n",
        "        k -= 1\n",
        "        interval = 2**k -1\n",
        "\n",
        "start_time = time.time()\n",
        "\n",
        "arr = input('Enter numbers: ').split()\n",
        "arr = [int(x) for x in arr]\n",
        "shell_sort(arr)\n",
        "print('Sorted: ', end='')\n",
        "print(arr)\n",
        "\n",
        "print(\"--- {0} ms ---\".format(round((time.time() - start_time)*1000)))"
      ]
    },
    {
      "cell_type": "code",
      "execution_count": null,
      "id": "correct-chaos",
      "metadata": {
        "id": "correct-chaos",
        "outputId": "f4d9aef1-8a2f-46a0-def0-4c9e049f5c77"
      },
      "outputs": [
        {
          "name": "stdout",
          "output_type": "stream",
          "text": [
            "--- 1 ms ---\n"
          ]
        }
      ],
      "source": [
        "# Быстрая сортировка.\n",
        "start_time = time.time()\n",
        "#TODO\n",
        "print(\"--- {0} ms ---\".format(round((time.time() - start_time)*1000)))\n",
        ""
      ]
    },
    {
      "cell_type": "code",
      "execution_count": null,
      "id": "french-czech",
      "metadata": {
        "id": "french-czech"
      },
      "outputs": [],
      "source": [
        "# Турнирная сортировка.\n",
        "start_time = time.time()\n",
        "#TODO\n",
        "print(\"--- {0} ms ---\".format(round((time.time() - start_time)*1000)))"
      ]
    },
    {
      "cell_type": "markdown",
      "id": "rental-jerusalem",
      "metadata": {
        "id": "rental-jerusalem"
      },
      "source": [
        "### Вывод\n"
      ]
    },
    {
      "cell_type": "markdown",
      "id": "9d108a0a",
      "metadata": {
        "id": "9d108a0a"
      },
      "source": []
    }
  ],
  "metadata": {
    "kernelspec": {
      "display_name": "Python 3 (ipykernel)",
      "language": "python",
      "name": "python3"
    },
    "language_info": {
      "codemirror_mode": {
        "name": "ipython",
        "version": 3
      },
      "file_extension": ".py",
      "mimetype": "text/x-python",
      "name": "python",
      "nbconvert_exporter": "python",
      "pygments_lexer": "ipython3",
      "version": "3.10.2"
    },
    "colab": {
      "provenance": [],
      "include_colab_link": true
    }
  },
  "nbformat": 4,
  "nbformat_minor": 5
}